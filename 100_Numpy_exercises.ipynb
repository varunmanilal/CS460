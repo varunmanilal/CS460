{
 "cells": [
  {
   "cell_type": "markdown",
   "id": "bf79c78b",
   "metadata": {},
   "source": [
    "# 100 numpy exercises\n",
    "\n",
    "This is a collection of exercises that have been collected in the numpy mailing list, on stack overflow\n",
    "and in the numpy documentation. The goal of this collection is to offer a quick reference for both old\n",
    "and new users but also to provide a set of exercises for those who teach.\n",
    "\n",
    "\n",
    "If you find an error or think you've a better way to solve some of them, feel\n",
    "free to open an issue at <https://github.com/rougier/numpy-100>."
   ]
  },
  {
   "cell_type": "markdown",
   "id": "8536e059",
   "metadata": {},
   "source": [
    "File automatically generated. See the documentation to update questions/answers/hints programmatically."
   ]
  },
  {
   "cell_type": "markdown",
   "id": "e16ac60b",
   "metadata": {},
   "source": [
    "Run the `initialize.py` module, then for each question you can query the\n",
    "answer or an hint with `hint(n)` or `answer(n)` for `n` question number."
   ]
  },
  {
   "cell_type": "code",
   "execution_count": null,
   "id": "a8453483",
   "metadata": {},
   "outputs": [],
   "source": [
    "%run initialise.py"
   ]
  },
  {
   "cell_type": "markdown",
   "id": "017db353",
   "metadata": {},
   "source": [
    "#### 1. Import the numpy package under the name `np` (★☆☆)"
   ]
  },
  {
   "cell_type": "code",
   "execution_count": 2,
   "id": "68182a76",
   "metadata": {},
   "outputs": [],
   "source": [
    "import numpy as np"
   ]
  },
  {
   "cell_type": "markdown",
   "id": "46950f4f",
   "metadata": {},
   "source": [
    "#### 2. Print the numpy version and the configuration (★☆☆)"
   ]
  },
  {
   "cell_type": "code",
   "execution_count": 5,
   "id": "2a9f5838",
   "metadata": {},
   "outputs": [
    {
     "name": "stdout",
     "output_type": "stream",
     "text": [
      "1.20.1\n",
      "blas_mkl_info:\n",
      "    libraries = ['mkl_rt']\n",
      "    library_dirs = ['E:/Anaconda\\\\Library\\\\lib']\n",
      "    define_macros = [('SCIPY_MKL_H', None), ('HAVE_CBLAS', None)]\n",
      "    include_dirs = ['E:/Anaconda\\\\Library\\\\include']\n",
      "blas_opt_info:\n",
      "    libraries = ['mkl_rt']\n",
      "    library_dirs = ['E:/Anaconda\\\\Library\\\\lib']\n",
      "    define_macros = [('SCIPY_MKL_H', None), ('HAVE_CBLAS', None)]\n",
      "    include_dirs = ['E:/Anaconda\\\\Library\\\\include']\n",
      "lapack_mkl_info:\n",
      "    libraries = ['mkl_rt']\n",
      "    library_dirs = ['E:/Anaconda\\\\Library\\\\lib']\n",
      "    define_macros = [('SCIPY_MKL_H', None), ('HAVE_CBLAS', None)]\n",
      "    include_dirs = ['E:/Anaconda\\\\Library\\\\include']\n",
      "lapack_opt_info:\n",
      "    libraries = ['mkl_rt']\n",
      "    library_dirs = ['E:/Anaconda\\\\Library\\\\lib']\n",
      "    define_macros = [('SCIPY_MKL_H', None), ('HAVE_CBLAS', None)]\n",
      "    include_dirs = ['E:/Anaconda\\\\Library\\\\include']\n",
      "None\n"
     ]
    }
   ],
   "source": [
    "print(np.__version__)\n",
    "print(np.show_config())"
   ]
  },
  {
   "cell_type": "markdown",
   "id": "e3c20b3d",
   "metadata": {},
   "source": [
    "#### 3. Create a null vector of size 10 (★☆☆)"
   ]
  },
  {
   "cell_type": "code",
   "execution_count": 3,
   "id": "8a758bcf",
   "metadata": {},
   "outputs": [
    {
     "name": "stdout",
     "output_type": "stream",
     "text": [
      "[0. 0. 0. 0. 0. 0. 0. 0. 0. 0.]\n"
     ]
    }
   ],
   "source": [
    "arr = np.zeros(10)\n",
    "print(arr)"
   ]
  },
  {
   "cell_type": "markdown",
   "id": "b15a879f",
   "metadata": {},
   "source": [
    "#### 4. How to find the memory size of any array (★☆☆)"
   ]
  },
  {
   "cell_type": "code",
   "execution_count": 7,
   "id": "1cc3cbc5",
   "metadata": {},
   "outputs": [
    {
     "name": "stdout",
     "output_type": "stream",
     "text": [
      "8\n",
      "80\n"
     ]
    }
   ],
   "source": [
    "# memory size for an element\n",
    "print(arr.itemsize)\n",
    "# memory size for an array\n",
    "print(arr.itemsize*len(arr))"
   ]
  },
  {
   "cell_type": "markdown",
   "id": "0a708990",
   "metadata": {},
   "source": [
    "#### 5. How to get the documentation of the numpy add function from the command line? (★☆☆)"
   ]
  },
  {
   "cell_type": "code",
   "execution_count": 111,
   "id": "477e01f4",
   "metadata": {},
   "outputs": [],
   "source": [
    "#to be run in the command prompt or anaconda prompt.\n",
    "python -c \"import numpy as np; np.info(np.add)\""
   ]
  },
  {
   "cell_type": "markdown",
   "id": "0b16cd77",
   "metadata": {},
   "source": [
    "#### 6. Create a null vector of size 10 but the fifth value which is 1 (★☆☆)"
   ]
  },
  {
   "cell_type": "code",
   "execution_count": null,
   "id": "4d9b5975",
   "metadata": {},
   "outputs": [],
   "source": [
    "arr = np.zeros(10)\n",
    "arr[4]=1\n",
    "print(arr)"
   ]
  },
  {
   "cell_type": "markdown",
   "id": "782d4c77",
   "metadata": {},
   "source": [
    "#### 7. Create a vector with values ranging from 10 to 49 (★☆☆)"
   ]
  },
  {
   "cell_type": "code",
   "execution_count": 21,
   "id": "5dbe1a08",
   "metadata": {},
   "outputs": [
    {
     "name": "stdout",
     "output_type": "stream",
     "text": [
      "[10, 11, 12, 13, 14, 15, 16, 17, 18, 19, 20, 21, 22, 23, 24, 25, 26, 27, 28, 29, 30, 31, 32, 33, 34, 35, 36, 37, 38, 39, 40, 41, 42, 43, 44, 45, 46, 47, 48, 49]\n",
      "[10 11 12 13 14 15 16 17 18 19 20 21 22 23 24 25 26 27 28 29 30 31 32 33\n",
      " 34 35 36 37 38 39 40 41 42 43 44 45 46 47 48 49]\n"
     ]
    }
   ],
   "source": [
    "#vec = []\n",
    "#i = 10\n",
    "#while i < 50:\n",
    "#    vec.append(i)\n",
    "#    i+=1\n",
    "#print(vec)\n",
    "\n",
    "vec = []\n",
    "vec = np.arange(10,50)\n",
    "print(vec)"
   ]
  },
  {
   "cell_type": "markdown",
   "id": "48d48f01",
   "metadata": {},
   "source": [
    "#### 8. Reverse a vector (first element becomes last) (★☆☆)"
   ]
  },
  {
   "cell_type": "code",
   "execution_count": 22,
   "id": "3ed233e7",
   "metadata": {},
   "outputs": [
    {
     "name": "stdout",
     "output_type": "stream",
     "text": [
      "[49, 48, 47, 46, 45, 44, 43, 42, 41, 40, 39, 38, 37, 36, 35, 34, 33, 32, 31, 30, 29, 28, 27, 26, 25, 24, 23, 22, 21, 20, 19, 18, 17, 16, 15, 14, 13, 12, 11, 10]\n",
      "[49 48 47 46 45 44 43 42 41 40 39 38 37 36 35 34 33 32 31 30 29 28 27 26\n",
      " 25 24 23 22 21 20 19 18 17 16 15 14 13 12 11 10]\n"
     ]
    }
   ],
   "source": [
    "#rev = []\n",
    "#i = len(vec)\n",
    "#while i > 0:\n",
    "#    rev.append(vec[i-1])\n",
    "#    i-=1\n",
    "#print(rev)\n",
    "#or\n",
    "vec = vec[::-1]\n",
    "print(vec)"
   ]
  },
  {
   "cell_type": "markdown",
   "id": "4fa39382",
   "metadata": {},
   "source": [
    "#### 9. Create a 3x3 matrix with values ranging from 0 to 8 (★☆☆)"
   ]
  },
  {
   "cell_type": "code",
   "execution_count": 26,
   "id": "c97757ec",
   "metadata": {},
   "outputs": [
    {
     "name": "stdout",
     "output_type": "stream",
     "text": [
      "[[0 1 2]\n",
      " [3 4 5]\n",
      " [6 7 8]]\n"
     ]
    }
   ],
   "source": [
    "int =[]\n",
    "for i in range(9):\n",
    "    int.append(i)\n",
    "int = np.resize(int,(3,3))\n",
    "print(int)\n"
   ]
  },
  {
   "cell_type": "markdown",
   "id": "da64551a",
   "metadata": {},
   "source": [
    "#### 10. Find indices of non-zero elements from [1,2,0,0,4,0] (★☆☆)"
   ]
  },
  {
   "cell_type": "code",
   "execution_count": 28,
   "id": "327f7adb",
   "metadata": {},
   "outputs": [
    {
     "name": "stdout",
     "output_type": "stream",
     "text": [
      "(array([0, 1, 4], dtype=int64),)\n"
     ]
    }
   ],
   "source": [
    "print(np.nonzero([1,2,0,0,4,0]))"
   ]
  },
  {
   "cell_type": "markdown",
   "id": "f89d9c9e",
   "metadata": {},
   "source": [
    "#### 11. Create a 3x3 identity matrix (★☆☆)"
   ]
  },
  {
   "cell_type": "code",
   "execution_count": 29,
   "id": "ba625832",
   "metadata": {},
   "outputs": [
    {
     "name": "stdout",
     "output_type": "stream",
     "text": [
      "[[1. 0. 0.]\n",
      " [0. 1. 0.]\n",
      " [0. 0. 1.]]\n"
     ]
    }
   ],
   "source": [
    "print(np.identity(3))"
   ]
  },
  {
   "cell_type": "markdown",
   "id": "7e44c6fa",
   "metadata": {},
   "source": [
    "#### 12. Create a 3x3x3 array with random values (★☆☆)"
   ]
  },
  {
   "cell_type": "code",
   "execution_count": 33,
   "id": "1cb3dddf",
   "metadata": {},
   "outputs": [
    {
     "name": "stdout",
     "output_type": "stream",
     "text": [
      "[[[9.74540071e-01 1.43751088e-01 4.01764124e-01]\n",
      "  [7.90866389e-02 7.30579958e-01 9.24326327e-02]\n",
      "  [5.13895027e-01 7.53787021e-02 2.11972235e-01]]\n",
      "\n",
      " [[1.42332330e-01 5.24428456e-01 8.74640068e-01]\n",
      "  [5.39533241e-01 6.72432139e-01 8.11688130e-01]\n",
      "  [2.40561145e-05 3.09899410e-01 5.33463128e-02]]\n",
      "\n",
      " [[6.54338952e-01 3.07141946e-01 3.97482914e-01]\n",
      "  [8.34597413e-01 2.76100274e-01 2.74674968e-01]\n",
      "  [1.65941387e-01 7.86979888e-01 4.09710020e-01]]]\n"
     ]
    }
   ],
   "source": [
    "ran =[]\n",
    "for i in range(27):\n",
    "    ran.append(np.random.random())\n",
    "ran = np.resize(ran,(3,3,3))\n",
    "print(ran)"
   ]
  },
  {
   "cell_type": "markdown",
   "id": "13c5928c",
   "metadata": {},
   "source": [
    "#### 13. Create a 10x10 array with random values and find the minimum and maximum values (★☆☆)"
   ]
  },
  {
   "cell_type": "code",
   "execution_count": 35,
   "id": "911c9b93",
   "metadata": {},
   "outputs": [
    {
     "name": "stdout",
     "output_type": "stream",
     "text": [
      "[[7.71604780e-01 5.98923787e-01 9.88692654e-02 1.21165373e-01\n",
      "  1.71263394e-02 3.61097445e-01 5.95855321e-01 7.26070056e-01\n",
      "  1.91144242e-01 8.18932462e-01]\n",
      " [4.83197990e-01 9.16319568e-01 7.72708953e-01 4.53165460e-01\n",
      "  3.40971115e-01 5.11958463e-01 8.35795967e-01 8.20545775e-02\n",
      "  2.26028595e-01 1.73976979e-01]\n",
      " [1.28307979e-02 6.77914090e-01 2.35679267e-01 3.24017554e-01\n",
      "  6.75376109e-01 7.31650009e-01 8.79489342e-01 2.23215469e-01\n",
      "  7.59594365e-01 5.47783424e-01]\n",
      " [7.26523945e-04 2.21723790e-01 6.13907915e-01 7.51143801e-01\n",
      "  9.00195626e-01 9.43854688e-01 3.25851203e-01 8.05295964e-01\n",
      "  2.04131039e-01 8.63460390e-01]\n",
      " [7.33655047e-01 8.65662641e-01 7.65417076e-01 9.77231229e-01\n",
      "  4.97685571e-01 5.05010452e-01 2.43898370e-01 4.42291511e-01\n",
      "  1.98907327e-01 1.94189174e-01]\n",
      " [9.94888747e-02 3.32874361e-01 9.62243650e-01 8.97978699e-01\n",
      "  1.04937694e-01 1.02496035e-01 5.08810314e-01 1.68694324e-01\n",
      "  8.26389469e-02 2.79047857e-01]\n",
      " [4.75797385e-01 1.05766935e-01 8.10300456e-01 2.21418395e-01\n",
      "  9.61211018e-01 1.83200888e-01 8.65605673e-01 2.66495382e-01\n",
      "  7.17587228e-01 6.19508219e-01]\n",
      " [6.83843904e-01 7.34759986e-01 8.47678388e-01 6.93163052e-01\n",
      "  7.47170584e-01 1.42094419e-01 6.68380184e-01 9.66964794e-01\n",
      "  7.19537955e-01 5.43503688e-01]\n",
      " [7.82276876e-01 3.80626160e-01 8.82376512e-01 6.50546728e-02\n",
      "  2.28718937e-01 4.74435110e-01 3.70260889e-01 4.65408089e-01\n",
      "  4.34125155e-01 5.75637321e-02]\n",
      " [9.98176985e-01 3.07391712e-01 6.14203697e-01 9.92545064e-01\n",
      "  8.59677005e-01 3.10572842e-01 4.51216260e-02 1.12648461e-01\n",
      "  5.88430334e-01 1.35952745e-01]]\n",
      "Max value: 0.9981769845811902\n",
      "Min value 0.0007265239449826266\n"
     ]
    }
   ],
   "source": [
    "rand = np.random.random((10,10))\n",
    "print(rand)\n",
    "print(\"Max value:\", rand.max())\n",
    "print(\"Min value\",rand.min())"
   ]
  },
  {
   "cell_type": "markdown",
   "id": "3fa2e461",
   "metadata": {},
   "source": [
    "#### 14. Create a random vector of size 30 and find the mean value (★☆☆)"
   ]
  },
  {
   "cell_type": "code",
   "execution_count": 39,
   "id": "323eb38a",
   "metadata": {},
   "outputs": [
    {
     "name": "stdout",
     "output_type": "stream",
     "text": [
      "[0.52432582 0.72388602 0.92408574 0.76452437 0.2176667  0.51648205\n",
      " 0.7949383  0.14801154 0.09625413 0.65928183 0.01891168 0.45064402\n",
      " 0.42295828 0.11498213 0.10486376 0.02005176 0.87942476 0.93373375\n",
      " 0.29642237 0.98424791 0.04833976 0.75221788 0.2316846  0.98769454\n",
      " 0.50210469 0.77994372 0.23964758 0.95822937 0.07573856 0.11813548]\n",
      "Mean value:  0.476314435972224\n"
     ]
    }
   ],
   "source": [
    "vec = np.random.random(30)\n",
    "print(vec)\n",
    "print(\"Mean value: \",vec.mean())"
   ]
  },
  {
   "cell_type": "markdown",
   "id": "73f7a549",
   "metadata": {},
   "source": [
    "#### 15. Create a 2d array with 1 on the border and 0 inside (★☆☆)"
   ]
  },
  {
   "cell_type": "code",
   "execution_count": 43,
   "id": "e3a6807d",
   "metadata": {},
   "outputs": [
    {
     "name": "stdout",
     "output_type": "stream",
     "text": [
      "[[0. 0. 0. 0. 0.]\n",
      " [0. 0. 0. 0. 0.]\n",
      " [0. 0. 0. 0. 0.]\n",
      " [0. 0. 0. 0. 0.]\n",
      " [0. 0. 0. 0. 0.]]\n",
      "[[1. 1. 1. 1. 1.]\n",
      " [1. 0. 0. 0. 1.]\n",
      " [1. 0. 0. 0. 1.]\n",
      " [1. 0. 0. 0. 1.]\n",
      " [1. 1. 1. 1. 1.]]\n"
     ]
    }
   ],
   "source": [
    "twod = np.zeros((5,5))\n",
    "twod[0,:]=1\n",
    "twod[4,:]=1\n",
    "twod[:,0]=1\n",
    "twod[:,4]=1\n",
    "print(twod)"
   ]
  },
  {
   "cell_type": "markdown",
   "id": "6d0c506f",
   "metadata": {},
   "source": [
    "#### 16. How to add a border (filled with 0's) around an existing array? (★☆☆)"
   ]
  },
  {
   "cell_type": "code",
   "execution_count": null,
   "id": "32ffee7b",
   "metadata": {},
   "outputs": [],
   "source": [
    "two = np.ones((5,5))\n",
    "twod[0,:]=0\n",
    "twod[4,:]=0\n",
    "twod[:,0]=0\n",
    "twod[:,4]=0\n",
    "print(twod)"
   ]
  },
  {
   "cell_type": "markdown",
   "id": "d6ad1a9f",
   "metadata": {},
   "source": [
    "#### 17. What is the result of the following expression? (★☆☆)\n",
    "```python\n",
    "0 * np.nan\n",
    "np.nan == np.nan\n",
    "np.inf > np.nan\n",
    "np.nan - np.nan\n",
    "np.nan in set([np.nan])\n",
    "0.3 == 3 * 0.1\n",
    "```"
   ]
  },
  {
   "cell_type": "code",
   "execution_count": 3,
   "id": "ee7ff0f3",
   "metadata": {},
   "outputs": [
    {
     "name": "stdout",
     "output_type": "stream",
     "text": [
      "nan\n",
      "False\n",
      "False\n",
      "nan\n",
      "True\n",
      "False\n"
     ]
    }
   ],
   "source": [
    "import numpy as np\n",
    "print(0 * np.nan)\n",
    "print(np.nan == np.nan)\n",
    "print(np.inf > np.nan)\n",
    "print(np.nan - np.nan)\n",
    "print(np.nan in set([np.nan]))\n",
    "print(0.3 == 3 * 0.1)\n",
    "#nan (not a number)\n",
    "#False (part of definition)\n",
    "#False \n",
    "#nan (Even that isnt a number)\n",
    "#true (nan is present in the set)\n",
    "#False (because of round-off erorr)"
   ]
  },
  {
   "cell_type": "markdown",
   "id": "e3a7ba7f",
   "metadata": {},
   "source": [
    "#### 18. Create a 5x5 matrix with values 1,2,3,4 just below the diagonal (★☆☆)"
   ]
  },
  {
   "cell_type": "code",
   "execution_count": 14,
   "id": "01d8e257",
   "metadata": {},
   "outputs": [
    {
     "name": "stdout",
     "output_type": "stream",
     "text": [
      "[[0 0 0 0 0]\n",
      " [1 0 0 0 0]\n",
      " [0 2 0 0 0]\n",
      " [0 0 3 0 0]\n",
      " [0 0 0 4 0]]\n"
     ]
    }
   ],
   "source": [
    "val = np.matrix([[1,2,3,4]])\n",
    "d = np.diag(val[0].A1,k=-1)\n",
    "print(d)"
   ]
  },
  {
   "cell_type": "markdown",
   "id": "6d17ab5d",
   "metadata": {},
   "source": [
    "#### 19. Create a 8x8 matrix and fill it with a checkerboard pattern (★☆☆)"
   ]
  },
  {
   "cell_type": "code",
   "execution_count": 38,
   "id": "841373cd",
   "metadata": {},
   "outputs": [
    {
     "name": "stdout",
     "output_type": "stream",
     "text": [
      "[[1. 0. 1. 0. 1. 0. 1. 0.]\n",
      " [0. 1. 0. 1. 0. 1. 0. 1.]\n",
      " [1. 0. 1. 0. 1. 0. 1. 0.]\n",
      " [0. 1. 0. 1. 0. 1. 0. 1.]\n",
      " [1. 0. 1. 0. 1. 0. 1. 0.]\n",
      " [0. 1. 0. 1. 0. 1. 0. 1.]\n",
      " [1. 0. 1. 0. 1. 0. 1. 0.]\n",
      " [0. 1. 0. 1. 0. 1. 0. 1.]]\n"
     ]
    }
   ],
   "source": [
    "check = np.zeros(64)\n",
    "for i in range(8):\n",
    "    if i%2==0:\n",
    "        check[8*i:8*(i+1):2] = 1\n",
    "    else:\n",
    "        check[(8*i)+1:8*(i+1)+1:2] = 1\n",
    "check.resize(8,8)\n",
    "print(check)"
   ]
  },
  {
   "cell_type": "markdown",
   "id": "8837119b",
   "metadata": {},
   "source": [
    "#### 20. Consider a (6,7,8) shape array, what is the index (x,y,z) of the 100th element? (★☆☆)"
   ]
  },
  {
   "cell_type": "code",
   "execution_count": 5,
   "id": "2c0d16f1",
   "metadata": {},
   "outputs": [
    {
     "name": "stdout",
     "output_type": "stream",
     "text": [
      "(1, 5, 4)\n"
     ]
    }
   ],
   "source": [
    "\n",
    "print(np.unravel_index(100,(6,7,8)))\n"
   ]
  },
  {
   "cell_type": "markdown",
   "id": "ec788c9f",
   "metadata": {},
   "source": [
    "#### 21. Create a checkerboard 8x8 matrix using the tile function (★☆☆)"
   ]
  },
  {
   "cell_type": "code",
   "execution_count": 10,
   "id": "0a4f919f",
   "metadata": {},
   "outputs": [
    {
     "name": "stdout",
     "output_type": "stream",
     "text": [
      "[[1 0 1 0 1 0 1 0]\n",
      " [0 1 0 1 0 1 0 1]\n",
      " [1 0 1 0 1 0 1 0]\n",
      " [0 1 0 1 0 1 0 1]\n",
      " [1 0 1 0 1 0 1 0]\n",
      " [0 1 0 1 0 1 0 1]\n",
      " [1 0 1 0 1 0 1 0]\n",
      " [0 1 0 1 0 1 0 1]]\n"
     ]
    }
   ],
   "source": [
    "tilepat = np.tile(np.array([[1,0],[0,1]]),(4,4))\n",
    "print(tilepat)"
   ]
  },
  {
   "cell_type": "markdown",
   "id": "391791e0",
   "metadata": {},
   "source": [
    "#### 22. Normalize a 5x5 random matrix (★☆☆)"
   ]
  },
  {
   "cell_type": "code",
   "execution_count": 17,
   "id": "f6533d39",
   "metadata": {},
   "outputs": [
    {
     "name": "stdout",
     "output_type": "stream",
     "text": [
      "[[14 14 69 31  9]\n",
      " [66  4 49 62 50]\n",
      " [34 62 49 24 19]\n",
      " [19 21 79 40 42]\n",
      " [90  0 92 20 50]]\n",
      "[[-1.01692687 -1.01692687  1.10488565 -0.36109391 -1.20981892]\n",
      " [ 0.98915042 -1.40271097  0.33331746  0.83483678  0.37189587]\n",
      " [-0.24535868  0.83483678  0.33331746 -0.63114278 -0.82403483]\n",
      " [-0.82403483 -0.74687801  1.49066974 -0.01388823  0.06326859]\n",
      " [ 1.91503225 -1.55702461  1.99218907 -0.78545642  0.37189587]]\n"
     ]
    }
   ],
   "source": [
    "rand = np.random.randint(100,size=(25)).reshape(5,5)\n",
    "print(rand)\n",
    "rand = (rand - np.mean(rand))/np.std(rand)\n",
    "print(rand)"
   ]
  },
  {
   "cell_type": "markdown",
   "id": "1e74d39e",
   "metadata": {},
   "source": [
    "#### 23. Create a custom dtype that describes a color as four unsigned bytes (RGBA) (★☆☆)"
   ]
  },
  {
   "cell_type": "code",
   "execution_count": 22,
   "id": "3f639d33",
   "metadata": {},
   "outputs": [
    {
     "name": "stdout",
     "output_type": "stream",
     "text": [
      "[('r', 'u1'), ('b', 'u1'), ('g', 'u1'), ('a', 'u1')]\n"
     ]
    }
   ],
   "source": [
    "col = np.dtype([('r',np.ubyte),('b',np.ubyte),('g',np.ubyte),('a',np.ubyte)])"
   ]
  },
  {
   "cell_type": "markdown",
   "id": "78250c14",
   "metadata": {},
   "source": [
    "#### 24. Multiply a 5x3 matrix by a 3x2 matrix (real matrix product) (★☆☆)"
   ]
  },
  {
   "cell_type": "code",
   "execution_count": 25,
   "id": "9fe729cb",
   "metadata": {},
   "outputs": [
    {
     "name": "stdout",
     "output_type": "stream",
     "text": [
      "[[0.59733045 0.76530988]\n",
      " [0.69805128 0.97082961]\n",
      " [1.03475809 0.67964359]\n",
      " [1.02025698 1.08828498]\n",
      " [0.99565451 0.66562171]]\n"
     ]
    }
   ],
   "source": [
    "mult = np.dot(np.random.random((5,3)),np.random.random((3,2)))\n",
    "print(mult)"
   ]
  },
  {
   "cell_type": "markdown",
   "id": "51898680",
   "metadata": {},
   "source": [
    "#### 25. Given a 1D array, negate all elements which are between 3 and 8, in place. (★☆☆)"
   ]
  },
  {
   "cell_type": "code",
   "execution_count": 32,
   "id": "51c90f2d",
   "metadata": {},
   "outputs": [
    {
     "name": "stdout",
     "output_type": "stream",
     "text": [
      "[ 0  1  2  3 -4 -5 -6 -7  8  9 10 11 12 13 14 15 16 17 18 19]\n"
     ]
    }
   ],
   "source": [
    "ar = np.arange(20)\n",
    "for z in ar:\n",
    "    if z>3 and z<8:\n",
    "        ar[z]=-1*ar[z]\n",
    "print(ar)"
   ]
  },
  {
   "cell_type": "markdown",
   "id": "89e78048",
   "metadata": {},
   "source": [
    "#### 26. What is the output of the following script? (★☆☆)\n",
    "```python\n",
    "# Author: Jake VanderPlas\n",
    "\n",
    "print(sum(range(5),-1))\n",
    "from numpy import *\n",
    "print(sum(range(5),-1))\n",
    "```"
   ]
  },
  {
   "cell_type": "code",
   "execution_count": 34,
   "id": "b62e9d1c",
   "metadata": {},
   "outputs": [],
   "source": [
    "#9\n",
    "#10"
   ]
  },
  {
   "cell_type": "markdown",
   "id": "ebd10810",
   "metadata": {},
   "source": [
    "#### 27. Consider an integer vector Z, which of these expressions are legal? (★☆☆)\n",
    "```python\n",
    "Z**Z\n",
    "2 << Z >> 2\n",
    "Z <- Z\n",
    "1j*Z\n",
    "Z/1/1\n",
    "Z<Z>Z\n",
    "```"
   ]
  },
  {
   "cell_type": "code",
   "execution_count": 54,
   "id": "6ada209f",
   "metadata": {},
   "outputs": [],
   "source": [
    "#Z**Z\n",
    "#Z <- Z\n",
    "#1j*Z\n",
    "#Z/1/1\n",
    "#Z<Z>Z"
   ]
  },
  {
   "cell_type": "markdown",
   "id": "c0e940f8",
   "metadata": {},
   "source": [
    "#### 28. What are the result of the following expressions? (★☆☆)\n",
    "```python\n",
    "np.array(0) / np.array(0)\n",
    "np.array(0) // np.array(0)\n",
    "np.array([np.nan]).astype(int).astype(float)\n",
    "```"
   ]
  },
  {
   "cell_type": "code",
   "execution_count": 166,
   "id": "820dc7a5",
   "metadata": {},
   "outputs": [
    {
     "name": "stdout",
     "output_type": "stream",
     "text": [
      "nan\n",
      "0\n",
      "[-2.14748365e+09]\n"
     ]
    }
   ],
   "source": [
    "print(np.array(0) / np.array(0))\n",
    "print(np.array(0) // np.array(0))\n",
    "print(np.array([np.nan]).astype(int).astype(float))\n",
    "\n",
    "defaults = np.seterr(all=\"ignore\")\n",
    "Z = np.ones(1) / 0"
   ]
  },
  {
   "cell_type": "markdown",
   "id": "22713c3f",
   "metadata": {},
   "source": [
    "#### 29. How to round away from zero a float array ? (★☆☆)"
   ]
  },
  {
   "cell_type": "code",
   "execution_count": 66,
   "id": "a3e05c29",
   "metadata": {},
   "outputs": [
    {
     "name": "stdout",
     "output_type": "stream",
     "text": [
      "[ 4.83804378  4.70203271  2.97403376 -1.6809197   4.90565678  0.70998278\n",
      "  2.75099499  3.37376652  3.14116214 -4.26799078]\n",
      "[ 5.  5.  3. -2.  5.  1.  3.  4.  4. -5.]\n"
     ]
    }
   ],
   "source": [
    "round = np.random.uniform(-5,5,10)\n",
    "print(round)\n",
    "print (np.copysign(np.ceil(np.abs(round)), round))"
   ]
  },
  {
   "cell_type": "markdown",
   "id": "f1ae2c2d",
   "metadata": {},
   "source": [
    "#### 30. How to find common values between two arrays? (★☆☆)"
   ]
  },
  {
   "cell_type": "code",
   "execution_count": 64,
   "id": "6801c73d",
   "metadata": {},
   "outputs": [
    {
     "name": "stdout",
     "output_type": "stream",
     "text": [
      "[0 5 8 9]\n"
     ]
    }
   ],
   "source": [
    "A = np.random.randint(10,size=(8))\n",
    "B = np.random.randint(10,size=(8))\n",
    "print(np.intersect1d(A,B))"
   ]
  },
  {
   "cell_type": "markdown",
   "id": "34a7bdee",
   "metadata": {},
   "source": [
    "#### 31. How to ignore all numpy warnings (not recommended)? (★☆☆)"
   ]
  },
  {
   "cell_type": "code",
   "execution_count": 69,
   "id": "befc60d1",
   "metadata": {},
   "outputs": [
    {
     "name": "stdout",
     "output_type": "stream",
     "text": [
      "[inf]\n"
     ]
    }
   ],
   "source": [
    "defaults = np.seterr(all=\"ignore\")\n",
    "Z = np.ones(1) / 0"
   ]
  },
  {
   "cell_type": "markdown",
   "id": "37bc0973",
   "metadata": {},
   "source": [
    "#### 32. Is the following expressions true? (★☆☆)\n",
    "```python\n",
    "np.sqrt(-1) == np.emath.sqrt(-1)\n",
    "```"
   ]
  },
  {
   "cell_type": "code",
   "execution_count": null,
   "id": "c70cbabe",
   "metadata": {},
   "outputs": [],
   "source": [
    "#False"
   ]
  },
  {
   "cell_type": "markdown",
   "id": "129c342d",
   "metadata": {},
   "source": [
    "#### 33. How to get the dates of yesterday, today and tomorrow? (★☆☆)"
   ]
  },
  {
   "cell_type": "code",
   "execution_count": 72,
   "id": "8ba1badb",
   "metadata": {},
   "outputs": [
    {
     "name": "stdout",
     "output_type": "stream",
     "text": [
      "2021-09-07\n",
      "2021-09-08\n",
      "2021-09-09\n"
     ]
    }
   ],
   "source": [
    "yesterday = np.datetime64('today') - np.timedelta64(1)\n",
    "today     = np.datetime64('today')\n",
    "tomorrow  = np.datetime64('today') + np.timedelta64(1)\n",
    "print(yesterday)\n",
    "print(today)\n",
    "print(tomorrow)"
   ]
  },
  {
   "cell_type": "markdown",
   "id": "42f8b2f9",
   "metadata": {},
   "source": [
    "#### 34. How to get all the dates corresponding to the month of July 2016? (★★☆)"
   ]
  },
  {
   "cell_type": "code",
   "execution_count": 74,
   "id": "eb8ebe45",
   "metadata": {},
   "outputs": [
    {
     "name": "stdout",
     "output_type": "stream",
     "text": [
      "['2016-07-01' '2016-07-02' '2016-07-03' '2016-07-04' '2016-07-05'\n",
      " '2016-07-06' '2016-07-07' '2016-07-08' '2016-07-09' '2016-07-10'\n",
      " '2016-07-11' '2016-07-12' '2016-07-13' '2016-07-14' '2016-07-15'\n",
      " '2016-07-16' '2016-07-17' '2016-07-18' '2016-07-19' '2016-07-20'\n",
      " '2016-07-21' '2016-07-22' '2016-07-23' '2016-07-24' '2016-07-25'\n",
      " '2016-07-26' '2016-07-27' '2016-07-28' '2016-07-29' '2016-07-30'\n",
      " '2016-07-31']\n"
     ]
    }
   ],
   "source": [
    "dates = np.arange('2016-07', '2016-08', dtype='datetime64[D]')\n",
    "print(dates)"
   ]
  },
  {
   "cell_type": "markdown",
   "id": "252c43e2",
   "metadata": {},
   "source": [
    "#### 35. How to compute ((A+B)*(-A/2)) in place (without copy)? (★★☆)"
   ]
  },
  {
   "cell_type": "code",
   "execution_count": 81,
   "id": "f06ff615",
   "metadata": {},
   "outputs": [
    {
     "name": "stdout",
     "output_type": "stream",
     "text": [
      "[ 0  0 -3]\n"
     ]
    }
   ],
   "source": [
    "A = np.random.randint(3,size=(3))\n",
    "B = np.random.randint(3,size=(3))\n",
    "np.add(A,B,out=B)\n",
    "np.divide(A,2,out=A,casting = 'unsafe')\n",
    "np.negative(A,out=A)\n",
    "np.multiply(A,B,out=A)"
   ]
  },
  {
   "cell_type": "markdown",
   "id": "486df8ea",
   "metadata": {},
   "source": [
    "#### 36. Extract the integer part of a random array of positive numbers using 4 different methods (★★☆)"
   ]
  },
  {
   "cell_type": "code",
   "execution_count": 83,
   "id": "34b4fa08",
   "metadata": {},
   "outputs": [
    {
     "name": "stdout",
     "output_type": "stream",
     "text": [
      "[3. 8. 9. 9. 9. 6. 4. 5. 3. 2.]\n",
      "[3. 8. 9. 9. 9. 6. 4. 5. 3. 2.]\n",
      "[3. 8. 9. 9. 9. 6. 4. 5. 3. 2.]\n",
      "[3. 8. 9. 9. 9. 6. 4. 5. 3. 2.]\n"
     ]
    }
   ],
   "source": [
    "Ar = np.random.uniform(0,10,10)\n",
    "\n",
    "print (np.floor(Ar))\n",
    "print (np.ceil(Ar)-1)\n",
    "print (Ar - Ar%1)\n",
    "print (np.trunc(Ar))"
   ]
  },
  {
   "cell_type": "markdown",
   "id": "649e89f9",
   "metadata": {},
   "source": [
    "#### 37. Create a 5x5 matrix with row values ranging from 0 to 4 (★★☆)"
   ]
  },
  {
   "cell_type": "code",
   "execution_count": 86,
   "id": "663cc611",
   "metadata": {},
   "outputs": [
    {
     "name": "stdout",
     "output_type": "stream",
     "text": [
      "[[1.15929618 3.7020349  1.01747964 1.06174758 2.95197639]\n",
      " [3.08447131 2.82991697 1.87444719 2.56093967 1.70590278]\n",
      " [1.9843484  2.90270848 0.61293939 1.47270098 0.49492748]\n",
      " [1.465302   3.48040239 3.23356031 2.00157957 3.22123215]\n",
      " [1.88978135 0.24319509 1.48325704 1.53766078 1.62423868]]\n"
     ]
    }
   ],
   "source": [
    "Ar = np.random.uniform(0,4,(5,5))\n",
    "print(Ar)"
   ]
  },
  {
   "cell_type": "markdown",
   "id": "3421e17f",
   "metadata": {},
   "source": [
    "#### 38. Consider a generator function that generates 10 integers and use it to build an array (★☆☆)"
   ]
  },
  {
   "cell_type": "code",
   "execution_count": 90,
   "id": "7336b8e4",
   "metadata": {},
   "outputs": [
    {
     "name": "stdout",
     "output_type": "stream",
     "text": [
      "[0. 1. 2. 3. 4. 5. 6. 7. 8. 9.]\n"
     ]
    }
   ],
   "source": [
    "\n",
    "def genf():\n",
    "    for i in range(10):\n",
    "        yield i\n",
    "Ar = np.fromiter(genf(),dtype=float,count=-1)\n",
    "print(Ar)\n",
    "        "
   ]
  },
  {
   "cell_type": "markdown",
   "id": "483dd554",
   "metadata": {},
   "source": [
    "#### 39. Create a vector of size 10 with values ranging from 0 to 1, both excluded (★★☆)"
   ]
  },
  {
   "cell_type": "code",
   "execution_count": 96,
   "id": "c89b93e7",
   "metadata": {},
   "outputs": [
    {
     "name": "stdout",
     "output_type": "stream",
     "text": [
      "[0.095 0.19  0.285 0.38  0.475 0.57  0.665 0.76  0.855 0.95 ]\n"
     ]
    }
   ],
   "source": [
    "A = np.arange(0,1,0.095)[1:]\n",
    "print(A)"
   ]
  },
  {
   "cell_type": "markdown",
   "id": "2d07be1c",
   "metadata": {},
   "source": [
    "#### 40. Create a random vector of size 10 and sort it (★★☆)"
   ]
  },
  {
   "cell_type": "code",
   "execution_count": 97,
   "id": "4f7cb3ad",
   "metadata": {},
   "outputs": [
    {
     "name": "stdout",
     "output_type": "stream",
     "text": [
      "[0.2435762  0.33631803 0.41606852 0.47469381 0.47811266 0.51430424\n",
      " 0.63940703 0.76146341 0.9067659  0.98932207]\n"
     ]
    }
   ],
   "source": [
    "ran = np.random.random(10)\n",
    "ran.sort()\n",
    "print(ran)"
   ]
  },
  {
   "cell_type": "markdown",
   "id": "6415f02e",
   "metadata": {},
   "source": [
    "#### 41. How to sum a small array faster than np.sum? (★★☆)"
   ]
  },
  {
   "cell_type": "code",
   "execution_count": 99,
   "id": "bb0dd942",
   "metadata": {},
   "outputs": [
    {
     "name": "stdout",
     "output_type": "stream",
     "text": [
      "45\n"
     ]
    }
   ],
   "source": [
    "Ar = np.arange(10)\n",
    "print(np.add.reduce(Ar))"
   ]
  },
  {
   "cell_type": "markdown",
   "id": "fe043549",
   "metadata": {},
   "source": [
    "#### 42. Consider two random array A and B, check if they are equal (★★☆)"
   ]
  },
  {
   "cell_type": "code",
   "execution_count": 106,
   "id": "3326a686",
   "metadata": {},
   "outputs": [
    {
     "name": "stdout",
     "output_type": "stream",
     "text": [
      "False\n"
     ]
    }
   ],
   "source": [
    "A = np.random.randint(0,2,5)\n",
    "B = np.random.randint(0,2,5)\n",
    "print(np.array_equal(A,B))"
   ]
  },
  {
   "cell_type": "markdown",
   "id": "cc08f71c",
   "metadata": {},
   "source": [
    "#### 43. Make an array immutable (read-only) (★★☆)"
   ]
  },
  {
   "cell_type": "code",
   "execution_count": 108,
   "id": "d5cc9dbe",
   "metadata": {},
   "outputs": [],
   "source": [
    "ar = np.ones(10)\n",
    "ar.flags.writeable = False\n",
    "#ar[5] = 1"
   ]
  },
  {
   "cell_type": "markdown",
   "id": "2002cb03",
   "metadata": {},
   "source": [
    "#### 44. Consider a random 10x2 matrix representing cartesian coordinates, convert them to polar coordinates (★★☆)"
   ]
  },
  {
   "cell_type": "code",
   "execution_count": 109,
   "id": "58be72bc",
   "metadata": {},
   "outputs": [
    {
     "name": "stdout",
     "output_type": "stream",
     "text": [
      "[0.76634147 0.18765663 0.76715078 1.09809123 0.85091779 1.10552616\n",
      " 1.14634004 0.81486758 0.63391537 0.88618234]\n",
      "[0.94972986 0.25307991 0.29750914 0.63085101 0.91148287 0.91892803\n",
      " 1.01989116 0.28532388 1.29569773 1.36247922]\n"
     ]
    }
   ],
   "source": [
    "cord = np.random.random((10,2))\n",
    "X,Y = cord[:,0], cord[:,1]\n",
    "R = np.sqrt(pow(X,2)+pow(Y,2))\n",
    "T = np.arctan2(Y,X)\n",
    "print(R)\n",
    "print(T)"
   ]
  },
  {
   "cell_type": "markdown",
   "id": "b7109c9f",
   "metadata": {},
   "source": [
    "#### 45. Create random vector of size 10 and replace the maximum value by 0 (★★☆)"
   ]
  },
  {
   "cell_type": "code",
   "execution_count": 117,
   "id": "f79e79a7",
   "metadata": {},
   "outputs": [
    {
     "name": "stdout",
     "output_type": "stream",
     "text": [
      "[1 9 5 2 3]\n",
      "[1 0 5 2 3]\n"
     ]
    }
   ],
   "source": [
    "max = np.random.randint(0,10,5)\n",
    "print(max)\n",
    "s = np.argmax(max)\n",
    "max[s]=0\n",
    "print(max)"
   ]
  },
  {
   "cell_type": "markdown",
   "id": "7d3131b9",
   "metadata": {},
   "source": [
    "#### 46. Create a structured array with `x` and `y` coordinates covering the [0,1]x[0,1] area (★★☆)"
   ]
  },
  {
   "cell_type": "code",
   "execution_count": 137,
   "id": "4f471afe",
   "metadata": {},
   "outputs": [
    {
     "name": "stdout",
     "output_type": "stream",
     "text": [
      "[[(0. , 0. ) (0. , 0.1) (0. , 0.2) (0. , 0.3) (0. , 0.4) (0. , 0.5)\n",
      "  (0. , 0.6) (0. , 0.7) (0. , 0.8) (0. , 0.9) (0. , 1. )]\n",
      " [(0.1, 0. ) (0.1, 0.1) (0.1, 0.2) (0.1, 0.3) (0.1, 0.4) (0.1, 0.5)\n",
      "  (0.1, 0.6) (0.1, 0.7) (0.1, 0.8) (0.1, 0.9) (0.1, 1. )]\n",
      " [(0.2, 0. ) (0.2, 0.1) (0.2, 0.2) (0.2, 0.3) (0.2, 0.4) (0.2, 0.5)\n",
      "  (0.2, 0.6) (0.2, 0.7) (0.2, 0.8) (0.2, 0.9) (0.2, 1. )]\n",
      " [(0.3, 0. ) (0.3, 0.1) (0.3, 0.2) (0.3, 0.3) (0.3, 0.4) (0.3, 0.5)\n",
      "  (0.3, 0.6) (0.3, 0.7) (0.3, 0.8) (0.3, 0.9) (0.3, 1. )]\n",
      " [(0.4, 0. ) (0.4, 0.1) (0.4, 0.2) (0.4, 0.3) (0.4, 0.4) (0.4, 0.5)\n",
      "  (0.4, 0.6) (0.4, 0.7) (0.4, 0.8) (0.4, 0.9) (0.4, 1. )]\n",
      " [(0.5, 0. ) (0.5, 0.1) (0.5, 0.2) (0.5, 0.3) (0.5, 0.4) (0.5, 0.5)\n",
      "  (0.5, 0.6) (0.5, 0.7) (0.5, 0.8) (0.5, 0.9) (0.5, 1. )]\n",
      " [(0.6, 0. ) (0.6, 0.1) (0.6, 0.2) (0.6, 0.3) (0.6, 0.4) (0.6, 0.5)\n",
      "  (0.6, 0.6) (0.6, 0.7) (0.6, 0.8) (0.6, 0.9) (0.6, 1. )]\n",
      " [(0.7, 0. ) (0.7, 0.1) (0.7, 0.2) (0.7, 0.3) (0.7, 0.4) (0.7, 0.5)\n",
      "  (0.7, 0.6) (0.7, 0.7) (0.7, 0.8) (0.7, 0.9) (0.7, 1. )]\n",
      " [(0.8, 0. ) (0.8, 0.1) (0.8, 0.2) (0.8, 0.3) (0.8, 0.4) (0.8, 0.5)\n",
      "  (0.8, 0.6) (0.8, 0.7) (0.8, 0.8) (0.8, 0.9) (0.8, 1. )]\n",
      " [(0.9, 0. ) (0.9, 0.1) (0.9, 0.2) (0.9, 0.3) (0.9, 0.4) (0.9, 0.5)\n",
      "  (0.9, 0.6) (0.9, 0.7) (0.9, 0.8) (0.9, 0.9) (0.9, 1. )]\n",
      " [(1. , 0. ) (1. , 0.1) (1. , 0.2) (1. , 0.3) (1. , 0.4) (1. , 0.5)\n",
      "  (1. , 0.6) (1. , 0.7) (1. , 0.8) (1. , 0.9) (1. , 1. )]]\n"
     ]
    }
   ],
   "source": [
    "area = np.zeros((11,11),[('x',float),('y',float)])\n",
    "k=0\n",
    "l=0\n",
    "for i in range(11):\n",
    "    l=0\n",
    "    for j in range(11):\n",
    "        area[i,j]=(k,l)\n",
    "        l+=0.1\n",
    "    k+=0.1\n",
    "print(area)       \n",
    "                \n",
    "                "
   ]
  },
  {
   "cell_type": "markdown",
   "id": "7c8c1fc5",
   "metadata": {},
   "source": [
    "#### 47. Given two arrays, X and Y, construct the Cauchy matrix C (Cij =1/(xi - yj)) (★★☆)"
   ]
  },
  {
   "cell_type": "code",
   "execution_count": 150,
   "id": "8fac7d28",
   "metadata": {},
   "outputs": [
    {
     "name": "stdout",
     "output_type": "stream",
     "text": [
      "396.03682955582303\n"
     ]
    }
   ],
   "source": [
    "X = np.arange(6)\n",
    "Y = X + 0.5\n",
    "cauchy = 1.0 / np.subtract.outer(X, Y)\n",
    "print(np.linalg.det(cauchy))"
   ]
  },
  {
   "cell_type": "markdown",
   "id": "5795b4bd",
   "metadata": {},
   "source": [
    "#### 48. Print the minimum and maximum representable value for each numpy scalar type (★★☆)"
   ]
  },
  {
   "cell_type": "code",
   "execution_count": 151,
   "id": "b721f7ca",
   "metadata": {},
   "outputs": [
    {
     "name": "stdout",
     "output_type": "stream",
     "text": [
      "-128\n",
      "127\n",
      "-2147483648\n",
      "2147483647\n",
      "-9223372036854775808\n",
      "9223372036854775807\n",
      "-3.4028235e+38\n",
      "3.4028235e+38\n",
      "-1.7976931348623157e+308\n",
      "1.7976931348623157e+308\n"
     ]
    }
   ],
   "source": [
    "for dtype in [np.int8, np.int32, np.int64]:\n",
    "   print(np.iinfo(dtype).min)\n",
    "   print(np.iinfo(dtype).max)\n",
    "for dtype in [np.float32, np.float64]:\n",
    "   print(np.finfo(dtype).min)\n",
    "   print(np.finfo(dtype).max)"
   ]
  },
  {
   "cell_type": "markdown",
   "id": "fb24674c",
   "metadata": {},
   "source": [
    "#### 49. How to print all the values of an array? (★★☆)"
   ]
  },
  {
   "cell_type": "code",
   "execution_count": 159,
   "id": "c81f1456",
   "metadata": {},
   "outputs": [
    {
     "name": "stdout",
     "output_type": "stream",
     "text": [
      "[[  0   1   2   3   4   5   6   7   8   9  10  11  12  13  14  15]\n",
      " [ 16  17  18  19  20  21  22  23  24  25  26  27  28  29  30  31]\n",
      " [ 32  33  34  35  36  37  38  39  40  41  42  43  44  45  46  47]\n",
      " [ 48  49  50  51  52  53  54  55  56  57  58  59  60  61  62  63]\n",
      " [ 64  65  66  67  68  69  70  71  72  73  74  75  76  77  78  79]\n",
      " [ 80  81  82  83  84  85  86  87  88  89  90  91  92  93  94  95]\n",
      " [ 96  97  98  99 100 101 102 103 104 105 106 107 108 109 110 111]\n",
      " [112 113 114 115 116 117 118 119 120 121 122 123 124 125 126 127]\n",
      " [128 129 130 131 132 133 134 135 136 137 138 139 140 141 142 143]\n",
      " [144 145 146 147 148 149 150 151 152 153 154 155 156 157 158 159]\n",
      " [160 161 162 163 164 165 166 167 168 169 170 171 172 173 174 175]\n",
      " [176 177 178 179 180 181 182 183 184 185 186 187 188 189 190 191]\n",
      " [192 193 194 195 196 197 198 199 200 201 202 203 204 205 206 207]\n",
      " [208 209 210 211 212 213 214 215 216 217 218 219 220 221 222 223]\n",
      " [224 225 226 227 228 229 230 231 232 233 234 235 236 237 238 239]\n",
      " [240 241 242 243 244 245 246 247 248 249 250 251 252 253 254 255]]\n"
     ]
    }
   ],
   "source": [
    "np.set_printoptions(threshold=256)\n",
    "Z = np.arange(256).reshape(16,16)\n",
    "print(Z)"
   ]
  },
  {
   "cell_type": "markdown",
   "id": "e6e1ae2f",
   "metadata": {},
   "source": [
    "#### 50. How to find the closest value (to a given scalar) in a vector? (★★☆)"
   ]
  },
  {
   "cell_type": "code",
   "execution_count": 160,
   "id": "73dd91cc",
   "metadata": {},
   "outputs": [
    {
     "name": "stdout",
     "output_type": "stream",
     "text": [
      "22.63978414179832\n",
      "23\n"
     ]
    }
   ],
   "source": [
    "ar = np.arange(50)\n",
    "v = np.random.uniform(0,50)\n",
    "print(v)\n",
    "index = (np.abs(Z-v)).argmin()\n",
    "print(ar[index])"
   ]
  },
  {
   "cell_type": "markdown",
   "id": "c01f0ecf",
   "metadata": {},
   "source": [
    "#### 51. Create a structured array representing a position (x,y) and a color (r,g,b) (★★☆)"
   ]
  },
  {
   "cell_type": "code",
   "execution_count": 164,
   "id": "fb8017ca",
   "metadata": {},
   "outputs": [
    {
     "name": "stdout",
     "output_type": "stream",
     "text": [
      "[((0., 0.), (0., 0., 0.)) ((0., 0.), (0., 0., 0.))\n",
      " ((0., 0.), (0., 0., 0.)) ((0., 0.), (0., 0., 0.))\n",
      " ((0., 0.), (0., 0., 0.))]\n"
     ]
    }
   ],
   "source": [
    "Z = np.zeros(5, [ ('position', [ ('x', float),\n",
    "                                  ('y', float)]),\n",
    "                   ('color',    [ ('r', float),\n",
    "                                  ('g', float),\n",
    "                                  ('b', float)])])\n",
    "print(Z)"
   ]
  },
  {
   "cell_type": "markdown",
   "id": "3b64a18b",
   "metadata": {},
   "source": [
    "#### 52. Consider a random vector with shape (100,2) representing coordinates, find point by point distances (★★☆)"
   ]
  },
  {
   "cell_type": "code",
   "execution_count": 165,
   "id": "4b482822",
   "metadata": {},
   "outputs": [
    {
     "name": "stdout",
     "output_type": "stream",
     "text": [
      "[[0.         0.86509721 0.32558533 0.8389058  0.64328875 0.29602506\n",
      "  0.39963727 0.43191884 0.73478345 0.53711018]\n",
      " [0.86509721 0.         0.89203163 0.47374396 0.67720412 0.70183916\n",
      "  0.62201783 0.48266494 0.19878252 0.81818477]\n",
      " [0.32558533 0.89203163 0.         1.02540104 0.90280006 0.56780057\n",
      "  0.27423741 0.6008091  0.82834344 0.83641379]\n",
      " [0.8389058  0.47374396 1.02540104 0.         0.30717716 0.55958847\n",
      "  0.81914811 0.42655815 0.31000397 0.49931837]\n",
      " [0.64328875 0.67720412 0.90280006 0.30717716 0.         0.34796524\n",
      "  0.76832518 0.35031576 0.47895744 0.19435382]\n",
      " [0.29602506 0.70183916 0.56780057 0.55958847 0.34796524 0.\n",
      "  0.49304626 0.21920509 0.52962662 0.27408137]\n",
      " [0.39963727 0.62201783 0.27423741 0.81914811 0.76832518 0.49304626\n",
      "  0.         0.4238249  0.58061623 0.76115862]\n",
      " [0.43191884 0.48266494 0.6008091  0.42655815 0.35031576 0.21920509\n",
      "  0.4238249  0.         0.3162071  0.39566863]\n",
      " [0.73478345 0.19878252 0.82834344 0.31000397 0.47895744 0.52962662\n",
      "  0.58061623 0.3162071  0.         0.62123255]\n",
      " [0.53711018 0.81818477 0.83641379 0.49931837 0.19435382 0.27408137\n",
      "  0.76115862 0.39566863 0.62123255 0.        ]]\n"
     ]
    }
   ],
   "source": [
    "dist = np.random.random((10,2))\n",
    "X,Y = np.atleast_2d(dist[:,0], dist[:,1])\n",
    "D = np.sqrt( (X-X.T)**2 + (Y-Y.T)**2)\n",
    "print(D)"
   ]
  },
  {
   "cell_type": "markdown",
   "id": "48413134",
   "metadata": {},
   "source": [
    "#### 53. How to convert a float (32 bits) array into an integer (32 bits) in place?"
   ]
  },
  {
   "cell_type": "code",
   "execution_count": 168,
   "id": "5db64b6d",
   "metadata": {},
   "outputs": [
    {
     "name": "stdout",
     "output_type": "stream",
     "text": [
      "[1 1 1 1 1 1 1 1 1 1]\n"
     ]
    }
   ],
   "source": [
    "Z = np.ones(10, dtype=np.float32)\n",
    "Z = Z.astype(np.int32, copy=False)\n",
    "print(Z)"
   ]
  },
  {
   "cell_type": "markdown",
   "id": "0a532633",
   "metadata": {},
   "source": [
    "#### 54. How to read the following file? (★★☆)\n",
    "```\n",
    "1, 2, 3, 4, 5\n",
    "6,  ,  , 7, 8\n",
    " ,  , 9,10,11\n",
    "```"
   ]
  },
  {
   "cell_type": "code",
   "execution_count": 12,
   "id": "8af4f753",
   "metadata": {},
   "outputs": [
    {
     "name": "stdout",
     "output_type": "stream",
     "text": [
      "[[ 1  2  3  4  5]\n",
      " [ 6  0  0  7  8]\n",
      " [ 0  0  9 10 11]]\n"
     ]
    }
   ],
   "source": [
    "from io import StringIO\n",
    "\n",
    "chars = StringIO('''1, 2, 3, 4, 5\n",
    "\n",
    "                    6,  ,  , 7, 8\n",
    "\n",
    "                     ,  , 9, 10, 11\n",
    "''')\n",
    "read = np.genfromtxt(chars, delimiter=\",\", dtype=np.int32,filling_values=0)\n",
    "print(read)"
   ]
  },
  {
   "cell_type": "markdown",
   "id": "f98713a6",
   "metadata": {},
   "source": [
    "#### 55. What is the equivalent of enumerate for numpy arrays? (★★☆)"
   ]
  },
  {
   "cell_type": "code",
   "execution_count": 15,
   "id": "64795f84",
   "metadata": {},
   "outputs": [
    {
     "name": "stdout",
     "output_type": "stream",
     "text": [
      "(0, 0) 0\n",
      "(0, 1) 1\n",
      "(0, 2) 2\n",
      "(0, 3) 3\n",
      "(1, 0) 4\n",
      "(1, 1) 5\n",
      "(1, 2) 6\n",
      "(1, 3) 7\n",
      "(2, 0) 8\n",
      "(2, 1) 9\n",
      "(2, 2) 10\n",
      "(2, 3) 11\n",
      "(3, 0) 12\n",
      "(3, 1) 13\n",
      "(3, 2) 14\n",
      "(3, 3) 15\n"
     ]
    }
   ],
   "source": [
    "Enu = np.arange(16).reshape(4,4)\n",
    "for index, value in np.ndenumerate(Enu):\n",
    "    print(index, value)\n"
   ]
  },
  {
   "cell_type": "markdown",
   "id": "1abc7cc8",
   "metadata": {},
   "source": [
    "#### 56. Generate a generic 2D Gaussian-like array (★★☆)"
   ]
  },
  {
   "cell_type": "code",
   "execution_count": 22,
   "id": "42e3a5bc",
   "metadata": {},
   "outputs": [
    {
     "name": "stdout",
     "output_type": "stream",
     "text": [
      "[[0.36787944 0.50661699 0.59452055 0.59452055 0.50661699 0.36787944]\n",
      " [0.50661699 0.69767633 0.81873075 0.81873075 0.69767633 0.50661699]\n",
      " [0.59452055 0.81873075 0.96078944 0.96078944 0.81873075 0.59452055]\n",
      " [0.59452055 0.81873075 0.96078944 0.96078944 0.81873075 0.59452055]\n",
      " [0.50661699 0.69767633 0.81873075 0.81873075 0.69767633 0.50661699]\n",
      " [0.36787944 0.50661699 0.59452055 0.59452055 0.50661699 0.36787944]]\n"
     ]
    }
   ],
   "source": [
    "X, Y = np.meshgrid(np.linspace(-1,1,6), np.linspace(-1,1,6))\n",
    "\n",
    "D = np.sqrt(pow(X,2)+pow(Y,2))\n",
    "sigma, mu = 1.0, 0.0\n",
    "G = np.exp(-( pow((D-mu),2) / ( 2.0 * pow(sigma,2) ) ) )\n",
    "print(G)"
   ]
  },
  {
   "cell_type": "markdown",
   "id": "0cf413ee",
   "metadata": {},
   "source": [
    "#### 57. How to randomly place p elements in a 2D array? (★★☆)"
   ]
  },
  {
   "cell_type": "code",
   "execution_count": 24,
   "id": "dfc57e06",
   "metadata": {},
   "outputs": [
    {
     "name": "stdout",
     "output_type": "stream",
     "text": [
      "[[1. 1. 0. 0. 0. 0. 0. 0.]\n",
      " [0. 0. 0. 0. 0. 0. 0. 0.]\n",
      " [0. 0. 0. 0. 0. 0. 1. 0.]\n",
      " [0. 1. 0. 0. 1. 0. 0. 0.]\n",
      " [0. 1. 0. 0. 0. 0. 0. 0.]\n",
      " [0. 0. 0. 0. 0. 0. 0. 0.]\n",
      " [0. 0. 0. 0. 0. 1. 0. 0.]\n",
      " [1. 0. 0. 0. 1. 0. 0. 1.]]\n"
     ]
    }
   ],
   "source": [
    "p = 10\n",
    "ran = np.zeros((8,8))\n",
    "np.put(ran, np.random.choice(range(8*8), p, replace = False),1)\n",
    "print(ran)"
   ]
  },
  {
   "cell_type": "markdown",
   "id": "215b6acc",
   "metadata": {},
   "source": [
    "#### 58. Subtract the mean of each row of a matrix (★★☆)"
   ]
  },
  {
   "cell_type": "code",
   "execution_count": 31,
   "id": "dd1adef4",
   "metadata": {},
   "outputs": [
    {
     "name": "stdout",
     "output_type": "stream",
     "text": [
      "[[ 0.03332481  0.40493364  0.14596974  0.0015885  -0.25904657 -0.18732868\n",
      "  -0.21478023  0.37900822 -0.14446801 -0.15920143]\n",
      " [ 0.06367542  0.08385375 -0.24969118  0.44536864 -0.31250923  0.22792161\n",
      "  -0.18179527  0.07885554 -0.28634677  0.1306675 ]\n",
      " [ 0.08512733 -0.17417207 -0.2494472  -0.14037453  0.22523909 -0.22951484\n",
      "  -0.22296052  0.54327873  0.33059046 -0.16776647]\n",
      " [-0.60552602 -0.37456485  0.22071952  0.25432144 -0.04731179  0.1974345\n",
      "   0.07063713  0.17669307  0.26600165 -0.15840464]\n",
      " [-0.05998217  0.23798162  0.04562541  0.2751154  -0.06552924  0.37568535\n",
      "  -0.19941203 -0.28732701 -0.32705163  0.0048943 ]]\n"
     ]
    }
   ],
   "source": [
    "X = np.random.rand(5, 10)\n",
    "print(X - X.mean(axis=1, keepdims=True))"
   ]
  },
  {
   "cell_type": "markdown",
   "id": "c0cf37e0",
   "metadata": {},
   "source": [
    "#### 59. How to sort an array by the nth column? (★★☆)"
   ]
  },
  {
   "cell_type": "code",
   "execution_count": 35,
   "id": "9336ca5f",
   "metadata": {},
   "outputs": [
    {
     "name": "stdout",
     "output_type": "stream",
     "text": [
      "[[0.71920963 0.4293519  0.49104542]\n",
      " [0.00111686 0.20874764 0.16364811]\n",
      " [0.96598276 0.66877    0.72069093]]\n",
      "[[0.00111686 0.20874764 0.16364811]\n",
      " [0.71920963 0.4293519  0.49104542]\n",
      " [0.96598276 0.66877    0.72069093]]\n"
     ]
    }
   ],
   "source": [
    "ar = np.random.rand(3,3)\n",
    "print(ar)\n",
    "\n",
    "print(ar[ar[:,1].argsort()])"
   ]
  },
  {
   "cell_type": "markdown",
   "id": "c17fb213",
   "metadata": {},
   "source": [
    "#### 60. How to tell if a given 2D array has null columns? (★★☆)"
   ]
  },
  {
   "cell_type": "code",
   "execution_count": 46,
   "id": "7fdda78d",
   "metadata": {},
   "outputs": [
    {
     "name": "stdout",
     "output_type": "stream",
     "text": [
      "[[ 1 -1  1 -1  1  1  1]\n",
      " [-1  0  1  1  0  1 -1]]\n",
      "False\n"
     ]
    }
   ],
   "source": [
    "nul = np.random.randint(-1,2,(2,7))\n",
    "print(nul)\n",
    "print((~nul.any(axis=0)).any())"
   ]
  },
  {
   "cell_type": "markdown",
   "id": "8aaab886",
   "metadata": {},
   "source": [
    "#### 61. Find the nearest value from a given value in an array (★★☆)"
   ]
  },
  {
   "cell_type": "code",
   "execution_count": 49,
   "id": "973f8079",
   "metadata": {},
   "outputs": [
    {
     "name": "stdout",
     "output_type": "stream",
     "text": [
      "0.6335410088828142\n"
     ]
    }
   ],
   "source": [
    "Z = np.random.uniform(0,10,10)\n",
    "val = 0.5\n",
    "m = Z.flat[np.abs(Z - val).argmin()]\n",
    "print(m)"
   ]
  },
  {
   "cell_type": "markdown",
   "id": "66a04e2e",
   "metadata": {},
   "source": [
    "#### 62. Considering two arrays with shape (1,3) and (3,1), how to compute their sum using an iterator? (★★☆)"
   ]
  },
  {
   "cell_type": "code",
   "execution_count": 53,
   "id": "4b356632",
   "metadata": {},
   "outputs": [
    {
     "name": "stdout",
     "output_type": "stream",
     "text": [
      "[[0 1 2]\n",
      " [1 2 3]\n",
      " [2 3 4]]\n"
     ]
    }
   ],
   "source": [
    "A = np.arange(3).reshape(3,1)\n",
    "B = np.arange(3).reshape(1,3)\n",
    "it = np.nditer([A,B,None])\n",
    "for x,y,res in it: \n",
    "    res[...] = x + y\n",
    "print(it.operands[2])"
   ]
  },
  {
   "cell_type": "markdown",
   "id": "f4427f7f",
   "metadata": {},
   "source": [
    "#### 63. Create an array class that has a name attribute (★★☆)"
   ]
  },
  {
   "cell_type": "code",
   "execution_count": 56,
   "id": "fe253212",
   "metadata": {},
   "outputs": [
    {
     "name": "stdout",
     "output_type": "stream",
     "text": [
      "name_given\n"
     ]
    }
   ],
   "source": [
    "class Array(np.ndarray):\n",
    "    def __new__(cls, array, name=\"no name\"):\n",
    "        obj = np.asarray(array).view(cls)\n",
    "        obj.name = name\n",
    "        return obj\n",
    "    def __array_finalize__(self, obj):\n",
    "        if obj is None: return\n",
    "        self.info = getattr(obj, 'name', \"no name\")\n",
    "\n",
    "Z = Array(np.arange(8), \"name_given\")\n",
    "print (Z.name)"
   ]
  },
  {
   "cell_type": "markdown",
   "id": "58be9dd4",
   "metadata": {},
   "source": [
    "#### 64. Consider a given vector, how to add 1 to each element indexed by a second vector (be careful with repeated indices)? (★★★)"
   ]
  },
  {
   "cell_type": "code",
   "execution_count": 64,
   "id": "5c8bae42",
   "metadata": {},
   "outputs": [
    {
     "name": "stdout",
     "output_type": "stream",
     "text": [
      "[1. 1. 1. 1. 1. 1. 1. 1. 1. 1.]\n",
      "[3 9 3 3 9 8 0 6 1 5 8 2 7 7 0 8 6 9 9 4]\n",
      "[3. 2. 2. 4. 2. 2. 3. 3. 4. 5.]\n"
     ]
    }
   ],
   "source": [
    "fir = np.ones(10)\n",
    "print(fir)\n",
    "sec = np.random.randint(0,len(fir),20)\n",
    "print(sec)\n",
    "np.add.at(fir, sec, 1)\n",
    "print(fir)"
   ]
  },
  {
   "cell_type": "markdown",
   "id": "7348abd0",
   "metadata": {},
   "source": [
    "#### 65. How to accumulate elements of a vector (X) to an array (F) based on an index list (I)? (★★★)"
   ]
  },
  {
   "cell_type": "code",
   "execution_count": null,
   "id": "b3e33a5a",
   "metadata": {},
   "outputs": [],
   "source": [
    "X = np.random.rand(5)\n",
    "Y = np.random.rand(5)\n",
    "F = np.bincount(I,X)\n",
    "print(F)"
   ]
  },
  {
   "cell_type": "markdown",
   "id": "538e651c",
   "metadata": {},
   "source": [
    "#### 66. Considering a (w,h,3) image of (dtype=ubyte), compute the number of unique colors (★★☆)"
   ]
  },
  {
   "cell_type": "code",
   "execution_count": 70,
   "id": "57f2f02f",
   "metadata": {},
   "outputs": [
    {
     "name": "stdout",
     "output_type": "stream",
     "text": [
      "64\n"
     ]
    }
   ],
   "source": [
    "w, h = 256, 256\n",
    "I = np.random.randint(0, 4, (h, w, 3)).astype(np.ubyte)\n",
    "\n",
    "colors = np.unique(I.reshape(-1, 3), axis=0)\n",
    "n = len(colors)\n",
    "print(n)"
   ]
  },
  {
   "cell_type": "markdown",
   "id": "33c986d9",
   "metadata": {},
   "source": [
    "#### 67. Considering a four dimensions array, how to get sum over the last two axis at once? (★★★)"
   ]
  },
  {
   "cell_type": "code",
   "execution_count": 71,
   "id": "a99a50e2",
   "metadata": {},
   "outputs": [
    {
     "name": "stdout",
     "output_type": "stream",
     "text": [
      "[[ 82  85  76]\n",
      " [102 101  84]\n",
      " [ 65  70  82]]\n"
     ]
    }
   ],
   "source": [
    "mat = np.random.randint(0,20,(3,3,3,3))\n",
    "sum = mat.sum(axis=(-2,-1))\n",
    "print(sum)"
   ]
  },
  {
   "cell_type": "markdown",
   "id": "00eb27c4",
   "metadata": {},
   "source": [
    "#### 68. Considering a one-dimensional vector D, how to compute means of subsets of D using a vector S of same size describing subset  indices? (★★★)"
   ]
  },
  {
   "cell_type": "code",
   "execution_count": 75,
   "id": "d48c5210",
   "metadata": {},
   "outputs": [
    {
     "name": "stdout",
     "output_type": "stream",
     "text": [
      "0    0.552530\n",
      "1    0.621465\n",
      "2    0.511970\n",
      "3    0.427170\n",
      "4    0.438862\n",
      "5    0.634837\n",
      "6    0.579033\n",
      "7    0.542457\n",
      "8    0.506686\n",
      "9    0.515809\n",
      "dtype: float64\n"
     ]
    }
   ],
   "source": [
    "ar1 = np.random.uniform(0,1,100)\n",
    "ar2 = np.random.randint(0,10,100)\n",
    "import pandas as pd\n",
    "print(pd.Series(ar1).groupby(ar2).mean())"
   ]
  },
  {
   "cell_type": "markdown",
   "id": "928a1a15",
   "metadata": {},
   "source": [
    "#### 69. How to get the diagonal of a dot product? (★★★)"
   ]
  },
  {
   "cell_type": "code",
   "execution_count": 77,
   "id": "ef2c9ddd",
   "metadata": {},
   "outputs": [
    {
     "name": "stdout",
     "output_type": "stream",
     "text": [
      "[183  95  61 120 113]\n"
     ]
    }
   ],
   "source": [
    "one = np.random.randint(0,10,(5,5))\n",
    "two = np.random.randint(0,10,(5,5))\n",
    "\n",
    "print(np.diag(np.dot(one, two)))"
   ]
  },
  {
   "cell_type": "markdown",
   "id": "5143f7f3",
   "metadata": {},
   "source": [
    "#### 70. Consider the vector [1, 2, 3, 4, 5], how to build a new vector with 3 consecutive zeros interleaved between each value? (★★★)"
   ]
  },
  {
   "cell_type": "code",
   "execution_count": 78,
   "id": "1d99a1c1",
   "metadata": {},
   "outputs": [
    {
     "name": "stdout",
     "output_type": "stream",
     "text": [
      "[1. 0. 0. 0. 2. 0. 0. 0. 3. 0. 0. 0. 4. 0. 0. 0. 5.]\n"
     ]
    }
   ],
   "source": [
    "Z = np.array([1,2,3,4,5])\n",
    "len(Z) = n\n",
    "Z1 = np.zeros(n + (n-1)*3)\n",
    "Z1[::4] = Z\n",
    "print(Z1)"
   ]
  },
  {
   "cell_type": "markdown",
   "id": "f62551d8",
   "metadata": {},
   "source": [
    "#### 71. Consider an array of dimension (5,5,3), how to mulitply it by an array with dimensions (5,5)? (★★★)"
   ]
  },
  {
   "cell_type": "code",
   "execution_count": 80,
   "id": "9ab241b7",
   "metadata": {},
   "outputs": [
    {
     "name": "stdout",
     "output_type": "stream",
     "text": [
      "[[[6. 6. 6.]\n",
      "  [6. 6. 6.]\n",
      "  [6. 6. 6.]\n",
      "  [6. 6. 6.]\n",
      "  [6. 6. 6.]]\n",
      "\n",
      " [[6. 6. 6.]\n",
      "  [6. 6. 6.]\n",
      "  [6. 6. 6.]\n",
      "  [6. 6. 6.]\n",
      "  [6. 6. 6.]]\n",
      "\n",
      " [[6. 6. 6.]\n",
      "  [6. 6. 6.]\n",
      "  [6. 6. 6.]\n",
      "  [6. 6. 6.]\n",
      "  [6. 6. 6.]]\n",
      "\n",
      " [[6. 6. 6.]\n",
      "  [6. 6. 6.]\n",
      "  [6. 6. 6.]\n",
      "  [6. 6. 6.]\n",
      "  [6. 6. 6.]]\n",
      "\n",
      " [[6. 6. 6.]\n",
      "  [6. 6. 6.]\n",
      "  [6. 6. 6.]\n",
      "  [6. 6. 6.]\n",
      "  [6. 6. 6.]]]\n"
     ]
    }
   ],
   "source": [
    "arA = 3*np.ones((5,5,3))\n",
    "arB = 2*np.ones((5,5))\n",
    "print(arA * arB[:,:,None])"
   ]
  },
  {
   "cell_type": "markdown",
   "id": "6896e326",
   "metadata": {},
   "source": [
    "#### 72. How to swap two rows of an array? (★★★)"
   ]
  },
  {
   "cell_type": "code",
   "execution_count": 83,
   "id": "9e8fcba9",
   "metadata": {},
   "outputs": [
    {
     "name": "stdout",
     "output_type": "stream",
     "text": [
      "[[ 0  1  2  3  4]\n",
      " [10 11 12 13 14]\n",
      " [ 5  6  7  8  9]\n",
      " [15 16 17 18 19]\n",
      " [20 21 22 23 24]]\n"
     ]
    }
   ],
   "source": [
    "sp = np.arange(25).reshape(5,5)\n",
    "sp[[2,1]] = sp[[1,2]]\n",
    "print(sp)"
   ]
  },
  {
   "cell_type": "markdown",
   "id": "aeaf4a7b",
   "metadata": {},
   "source": [
    "#### 73. Consider a set of 10 triplets describing 10 triangles (with shared vertices), find the set of unique line segments composing all the  triangles (★★★)"
   ]
  },
  {
   "cell_type": "code",
   "execution_count": 92,
   "id": "39ef4234",
   "metadata": {},
   "outputs": [
    {
     "name": "stdout",
     "output_type": "stream",
     "text": [
      "[[35 91]\n",
      " [91 38]\n",
      " [38 35]\n",
      " [34 96]\n",
      " [96 60]\n",
      " [60 34]\n",
      " [66 38]\n",
      " [38 39]\n",
      " [39 66]\n",
      " [83 88]\n",
      " [88 93]\n",
      " [93 83]\n",
      " [93 30]\n",
      " [30 38]\n",
      " [38 93]\n",
      " [81 84]\n",
      " [84 20]\n",
      " [20 81]\n",
      " [94 96]\n",
      " [96 11]\n",
      " [11 94]\n",
      " [65 73]\n",
      " [73 59]\n",
      " [59 65]\n",
      " [ 0 65]\n",
      " [65 75]\n",
      " [75  0]\n",
      " [30 97]\n",
      " [97 51]\n",
      " [51 30]]\n",
      "[( 0, 65) ( 0, 75) (11, 94) (11, 96) (20, 81) (20, 84) (30, 38) (30, 51)\n",
      " (30, 93) (30, 97) (34, 60) (34, 96) (35, 38) (35, 91) (38, 39) (38, 66)\n",
      " (38, 91) (38, 93) (39, 66) (51, 97) (59, 65) (59, 73) (60, 96) (65, 73)\n",
      " (65, 75) (81, 84) (83, 88) (83, 93) (88, 93) (94, 96)]\n"
     ]
    }
   ],
   "source": [
    "faces = np.random.randint(0,100,(10,3))\n",
    "\n",
    "F = np.roll(faces.repeat(2,axis=1),-1,axis=1)\n",
    "F = F.reshape(len(F)*3,2)\n",
    "print(F)\n",
    "F = np.sort(F,axis=1)\n",
    "G = F.view( dtype=[('p0',F.dtype),('p1',F.dtype)] )\n",
    "G = np.unique(G)\n",
    "print(G)"
   ]
  },
  {
   "cell_type": "markdown",
   "id": "3d11451b",
   "metadata": {},
   "source": [
    "#### 74. Given a sorted array C that corresponds to a bincount, how to produce an array A such that np.bincount(A) == C? (★★★)"
   ]
  },
  {
   "cell_type": "code",
   "execution_count": 93,
   "id": "a5563362",
   "metadata": {},
   "outputs": [
    {
     "name": "stdout",
     "output_type": "stream",
     "text": [
      "[1 1 2 3 4 4 6]\n"
     ]
    }
   ],
   "source": [
    "C = np.bincount([1,1,2,3,4,4,6])\n",
    "A = np.repeat(np.arange(len(C)), C)\n",
    "print(A)"
   ]
  },
  {
   "cell_type": "markdown",
   "id": "a0a45995",
   "metadata": {},
   "source": [
    "#### 75. How to compute averages using a sliding window over an array? (★★★)"
   ]
  },
  {
   "cell_type": "code",
   "execution_count": 100,
   "id": "116243d5",
   "metadata": {},
   "outputs": [
    {
     "name": "stdout",
     "output_type": "stream",
     "text": [
      "[ 3.  6.  9. 12. 15. 18. 21. 24. 27. 30. 33. 36. 39. 42. 45. 48. 51. 54.]\n",
      "[ 1.  2.  3.  4.  5.  6.  7.  8.  9. 10. 11. 12. 13. 14. 15. 16. 17. 18.]\n"
     ]
    }
   ],
   "source": [
    "def average(a, n) :\n",
    "    ret = np.cumsum(a, dtype=float)\n",
    "    ret[n:] = ret[n:] - ret[:-n]\n",
    "    print(ret[n-1:])\n",
    "    return ret[n - 1:] / n\n",
    "av = np.arange(20)\n",
    "print(average(av,3))"
   ]
  },
  {
   "cell_type": "markdown",
   "id": "7808578f",
   "metadata": {},
   "source": [
    "#### 76. Consider a one-dimensional array Z, build a two-dimensional array whose first row is (Z[0],Z[1],Z[2]) and each subsequent row is  shifted by 1 (last row should be (Z[-3],Z[-2],Z[-1]) (★★★)"
   ]
  },
  {
   "cell_type": "code",
   "execution_count": 105,
   "id": "6b23ba6e",
   "metadata": {},
   "outputs": [
    {
     "name": "stdout",
     "output_type": "stream",
     "text": [
      "[[0 1 2]\n",
      " [1 2 3]\n",
      " [2 3 4]\n",
      " [3 4 5]\n",
      " [4 5 6]\n",
      " [5 6 7]]\n"
     ]
    }
   ],
   "source": [
    "from numpy.lib import stride_tricks\n",
    "\n",
    "def shift(a):\n",
    "    shape = (a.size - 4, 3)\n",
    "    strides = (a.strides[0], a.strides[0])\n",
    "    return stride_tricks.as_strided(a, shape=shape, strides=strides)\n",
    "res = shift(np.arange(10))\n",
    "print(res)"
   ]
  },
  {
   "cell_type": "markdown",
   "id": "8e83df46",
   "metadata": {},
   "source": [
    "##### 77. How to negate a boolean, or to change the sign of a float inplace? (★★★)"
   ]
  },
  {
   "cell_type": "code",
   "execution_count": 107,
   "id": "f73127b7",
   "metadata": {},
   "outputs": [
    {
     "name": "stdout",
     "output_type": "stream",
     "text": [
      "[-0.73717575 -0.09453103 -0.57453099 -0.89453302  0.97984264  0.32585134\n",
      "  0.05202209  0.04204232  0.50478519  0.16807491 -0.7688184  -0.63683323\n",
      "  0.82911401  0.14016614 -0.37323191 -0.10147132  0.4021466   0.85625907\n",
      " -0.78927116 -0.28564706]\n"
     ]
    }
   ],
   "source": [
    "one = np.random.uniform(-1.0,1.0,20)\n",
    "print(np.negative(one, out=one))"
   ]
  },
  {
   "cell_type": "markdown",
   "id": "e67ff31c",
   "metadata": {},
   "source": [
    "#### 78. Consider 2 sets of points P0,P1 describing lines (2d) and a point p, how to compute distance from p to each line i (P0[i],P1[i])? (★★★)"
   ]
  },
  {
   "cell_type": "code",
   "execution_count": 60,
   "id": "89d75b76",
   "metadata": {},
   "outputs": [
    {
     "name": "stdout",
     "output_type": "stream",
     "text": [
      "[ 0.33752177 15.73621408  7.33478135 11.89093015  4.88580363  0.19048876\n",
      "  4.07798538  4.04155154  4.3887883   2.37953079]\n"
     ]
    }
   ],
   "source": [
    "def distance(P0, P1, p):\n",
    "    len1 = P1 - P0\n",
    "    L = (len1**2).sum(axis=1)\n",
    "    M = -((P0[:,0]-p[...,0])*len1[:,0] + (P0[:,1]-p[...,1])*len1[:,1]) / L\n",
    "    M = M.reshape(len(M),1)\n",
    "    N = P0 + M*len1 - p\n",
    "    return np.sqrt((N**2).sum(axis=1))\n",
    "\n",
    "a = np.random.uniform(-10,10,(10,2))\n",
    "b = np.random.uniform(-10,10,(10,2))\n",
    "p  = np.random.uniform(-10,10,( 1,2))\n",
    "print(distance(a, b, p))"
   ]
  },
  {
   "cell_type": "markdown",
   "id": "ad8821b1",
   "metadata": {},
   "source": [
    "#### 79. Consider 2 sets of points P0,P1 describing lines (2d) and a set of points P, how to compute distance from each point j (P[j]) to each line i (P0[i],P1[i])? (★★★)"
   ]
  },
  {
   "cell_type": "code",
   "execution_count": 63,
   "id": "775feca0",
   "metadata": {},
   "outputs": [
    {
     "name": "stdout",
     "output_type": "stream",
     "text": [
      "[[0.11840855 0.48951413 0.32155302 0.76990296 0.16254098 0.35627979\n",
      "  0.48631737 0.0560819  0.85408518 0.93524521]\n",
      " [0.11181545 0.17122618 0.61433043 0.35702287 0.83129786 1.19588594\n",
      "  0.3780804  0.1158653  0.29509234 0.25428445]\n",
      " [0.5852637  0.51363717 1.06524476 0.09466275 1.23749821 0.68339175\n",
      "  0.12008423 0.58692945 0.52091931 0.11642567]\n",
      " [0.16129279 0.29981228 0.42298307 0.22284325 0.63678057 1.13379788\n",
      "  0.31063858 0.17458562 0.09931085 0.09603259]\n",
      " [0.04257259 0.66549798 0.57278905 0.93524178 0.41696163 0.28709918\n",
      "  0.56255948 0.031589   1.10673135 1.13345997]\n",
      " [0.9945965  0.70421172 0.90846879 0.46365147 1.03768285 0.121952\n",
      "  0.68458267 0.97623848 0.17797146 0.40908684]\n",
      " [0.6772683  0.59996763 1.11666637 0.05227442 1.28269603 0.61074895\n",
      "  0.19105597 0.6792396  0.54159596 0.08969598]\n",
      " [0.66460918 0.93929796 0.19146787 0.13526033 0.04311422 1.32533028\n",
      "  0.48396248 0.69805015 0.38962124 0.10906527]\n",
      " [0.85031098 1.0681782  0.20486495 0.30749845 0.04587788 1.52780916\n",
      "  0.68552865 0.87935543 0.32938432 0.04021026]\n",
      " [0.37934685 0.75877174 0.20565671 0.1626613  0.0027162  0.99281133\n",
      "  0.15189931 0.42146975 0.52137512 0.37503771]]\n"
     ]
    }
   ],
   "source": [
    "P0 = np.random.uniform(-1, 1, (10,2))\n",
    "P1 = np.random.uniform(-1, 1, (10,2))\n",
    "p = np.random.uniform(-1, 1, (10,2))\n",
    "print(np.array([distance(P0,P1,p_i) for p_i in p]))"
   ]
  },
  {
   "cell_type": "markdown",
   "id": "a0c8cbf5",
   "metadata": {},
   "source": [
    "#### 80. Consider an arbitrary array, write a function that extract a subpart with a fixed shape and centered on a given element (pad with a `fill` value when necessary) (★★★)"
   ]
  },
  {
   "cell_type": "code",
   "execution_count": 84,
   "id": "381fd926",
   "metadata": {},
   "outputs": [
    {
     "name": "stdout",
     "output_type": "stream",
     "text": [
      "[[2 3 8 4 2 4 7 3 2 3]\n",
      " [3 9 8 3 6 1 9 7 4 7]\n",
      " [7 7 1 7 9 5 6 1 4 5]\n",
      " [6 6 3 2 9 6 6 6 0 4]\n",
      " [1 2 3 1 2 8 0 4 3 7]\n",
      " [7 3 5 4 5 7 6 4 3 5]\n",
      " [1 9 0 5 3 8 5 8 3 9]\n",
      " [9 5 0 6 5 8 3 2 5 9]\n",
      " [4 1 5 7 7 4 8 2 3 0]\n",
      " [3 6 5 2 8 2 3 2 2 0]]\n",
      "[[0 0 0 0 0]\n",
      " [0 2 3 8 4]\n",
      " [0 3 9 8 3]\n",
      " [0 7 7 1 7]\n",
      " [0 6 6 3 2]]\n"
     ]
    },
    {
     "name": "stderr",
     "output_type": "stream",
     "text": [
      "<ipython-input-84-0f8b805e65b0>:21: FutureWarning: Using a non-tuple sequence for multidimensional indexing is deprecated; use `arr[tuple(seq)]` instead of `arr[seq]`. In the future this will be interpreted as an array index, `arr[np.array(seq)]`, which will result either in an error or a different result.\n",
      "  R[[slice(start,stop) for start,stop in zip(Rstart,Rstop)]] = Z[[slice(start,stop) for start,stop in zip(Zstart,Zstop)]]\n"
     ]
    }
   ],
   "source": [
    "Z = np.random.randint(0,10,(10,10))\n",
    "shape = (5,5)\n",
    "fill  = 0\n",
    "position = (1,1)\n",
    "\n",
    "R  = np.ones(shape, dtype=Z.dtype)*fill\n",
    "P  = np.array(list(position)).astype(int)\n",
    "Rs = np.array(list(R.shape)).astype(int)\n",
    "Zs = np.array(list(Z.shape)).astype(int)\n",
    "\n",
    "Rstart = np.zeros((len(shape),)).astype(int)\n",
    "Rstop  = np.array(list(shape)).astype(int)\n",
    "Zstart = (P-Rs//2)\n",
    "Zstop  = (P+Rs//2)+Rs%2\n",
    "\n",
    "Rstart = (Rstart - np.minimum(Zstart,0)).tolist()\n",
    "Zstart = (np.maximum(Zstart,0)).tolist()\n",
    "Rstop = np.maximum(Rstart, (Rstop - np.maximum(Zstop-Zs,0))).tolist()\n",
    "Zstop = (np.minimum(Zstop,Zs)).tolist()\n",
    "\n",
    "R[[slice(start,stop) for start,stop in zip(Rstart,Rstop)]] = Z[[slice(start,stop) for start,stop in zip(Zstart,Zstop)]]\n",
    "print(Z)\n",
    "print(R)\n",
    "\n",
    "\n",
    "defaults = np.seterr(all=\"ignore\")\n",
    "Z = np.ones(1) / 0"
   ]
  },
  {
   "cell_type": "markdown",
   "id": "781fa236",
   "metadata": {},
   "source": [
    "#### 81. Consider an array Z = [1,2,3,4,5,6,7,8,9,10,11,12,13,14], how to generate an array R = [[1,2,3,4], [2,3,4,5], [3,4,5,6], ..., [11,12,13,14]]? (★★★)"
   ]
  },
  {
   "cell_type": "code",
   "execution_count": 73,
   "id": "8e84d3c2",
   "metadata": {},
   "outputs": [
    {
     "name": "stdout",
     "output_type": "stream",
     "text": [
      "[2 3 4 5]\n",
      "[[ 1  2  3  4]\n",
      " [ 2  3  4  5]\n",
      " [ 3  4  5  6]\n",
      " [ 4  5  6  7]\n",
      " [ 5  6  7  8]\n",
      " [ 6  7  8  9]\n",
      " [ 7  8  9 10]\n",
      " [ 8  9 10 11]\n",
      " [ 9 10 11 12]\n",
      " [10 11 12 13]\n",
      " [11 12 13 14]\n",
      " [12 13 14 15]\n",
      " [13 14 15 16]\n",
      " [14 15 16 17]]\n"
     ]
    }
   ],
   "source": [
    "z = [1,2,3,4,5,6,7,8,9,10,11,12,13,14]\n",
    "type(z[1])\n",
    "x=np.arange(z[1],z[1+4])\n",
    "print(x)\n",
    "y=[]\n",
    "for i in range(14):\n",
    "           k=np.arange(z[i],z[i]+4)\n",
    "           y.append(k)\n",
    "print(np.array(y))"
   ]
  },
  {
   "cell_type": "markdown",
   "id": "9c9bb0f3",
   "metadata": {},
   "source": [
    "#### 82. Compute a matrix rank (★★★)"
   ]
  },
  {
   "cell_type": "code",
   "execution_count": 72,
   "id": "b75ef318",
   "metadata": {},
   "outputs": [
    {
     "name": "stdout",
     "output_type": "stream",
     "text": [
      "2\n"
     ]
    }
   ],
   "source": [
    "x = np.matrix([[1,2,3,4],[5,6,7,8],[9,10,11,12]])\n",
    "print(np.linalg.matrix_rank(x))"
   ]
  },
  {
   "cell_type": "markdown",
   "id": "7d8dc135",
   "metadata": {},
   "source": [
    "#### 83. How to find the most frequent value in an array?"
   ]
  },
  {
   "cell_type": "code",
   "execution_count": 70,
   "id": "3978a7a2",
   "metadata": {},
   "outputs": [
    {
     "name": "stdout",
     "output_type": "stream",
     "text": [
      "[ 3 12  2 13  3 10  8  1 14  9  3 10  9 13 13  4  0  6  7 10  5 12  2  1\n",
      "  2 14  8  7  9  2  7 10  5  4 14  7 11  2  1  0  8  6  1 10  7  0 13 10\n",
      "  7  4  6  8  9 10  9  6 10  8  4  7  4  7 11  4  6  8 11  0  1  8  9 11\n",
      "  9  3  8  5  2  6 11  2 10 13 14  1 13  4  2  9  9  5 12 11  2  9 12 11\n",
      "  4 13 14 14]\n",
      "9\n"
     ]
    }
   ],
   "source": [
    "x = np.random.randint(0,15,100)\n",
    "print(x)\n",
    "freq_value=np.bincount(x).argmax()\n",
    "print(freq_value)"
   ]
  },
  {
   "cell_type": "markdown",
   "id": "aa340126",
   "metadata": {},
   "source": [
    "#### 84. Extract all the contiguous 3x3 blocks from a random 10x10 matrix (★★★)"
   ]
  },
  {
   "cell_type": "code",
   "execution_count": 71,
   "id": "bf138783",
   "metadata": {},
   "outputs": [
    {
     "name": "stdout",
     "output_type": "stream",
     "text": [
      "[[[[0 1 0]\n",
      "   [1 0 1]\n",
      "   [0 1 0]]]\n",
      "\n",
      "\n",
      " [[[1 0 1]\n",
      "   [0 1 0]\n",
      "   [0 1 0]]]\n",
      "\n",
      "\n",
      " [[[0 1 0]\n",
      "   [0 1 0]\n",
      "   [1 0 0]]]\n",
      "\n",
      "\n",
      " [[[0 1 0]\n",
      "   [1 0 0]\n",
      "   [0 0 0]]]]\n"
     ]
    }
   ],
   "source": [
    "x= np.random.uniform(0,10,(10,10))\n",
    "n = 3\n",
    "i = 1 + (Z.shape[0]-3)\n",
    "j = 1 + (Z.shape[1]-3)\n",
    "blocks = np.lib.stride_tricks.as_strided(Z, shape=(i, j, n, n), strides=Z.strides + Z.strides)\n",
    "print(blocks)"
   ]
  },
  {
   "cell_type": "markdown",
   "id": "6b6d2c84",
   "metadata": {},
   "source": [
    "#### 85. Create a 2D array subclass such that Z[i,j] == Z[j,i] (★★★)"
   ]
  },
  {
   "cell_type": "code",
   "execution_count": 69,
   "id": "155e16ce",
   "metadata": {},
   "outputs": [
    {
     "name": "stdout",
     "output_type": "stream",
     "text": [
      "[[ 0 10 12  6 14]\n",
      " [10  0  6 10 10]\n",
      " [12  6  1  7  6]\n",
      " [ 6 10  7  6 11]\n",
      " [14 10  6 11  8]]\n"
     ]
    }
   ],
   "source": [
    "class Symetric2D(np.ndarray):\n",
    "    def __setitem__(self, index, value):\n",
    "        i,j = index\n",
    "        super(Symetric2D, self).__setitem__((i,j), value)\n",
    "        super(Symetric2D, self).__setitem__((j,i), value)\n",
    "\n",
    "def symetric(Z):\n",
    "    return np.asarray(Z + Z.T - np.diag(Z.diagonal())).view(Symetric2D)\n",
    "\n",
    "Sym_array = symetric(np.random.randint(0,10,(5,5)))\n",
    "print(Sym_array)"
   ]
  },
  {
   "cell_type": "markdown",
   "id": "7be0fe36",
   "metadata": {},
   "source": [
    "#### 86. Consider a set of p matrices wich shape (n,n) and a set of p vectors with shape (n,1). How to compute the sum of of the p matrix products at once? (result has shape (n,1)) (★★★)"
   ]
  },
  {
   "cell_type": "code",
   "execution_count": 67,
   "id": "ea732c23",
   "metadata": {},
   "outputs": [
    {
     "name": "stdout",
     "output_type": "stream",
     "text": [
      "[[[1. 1. 1. ... 1. 1. 1.]\n",
      "  [1. 1. 1. ... 1. 1. 1.]\n",
      "  [1. 1. 1. ... 1. 1. 1.]\n",
      "  ...\n",
      "  [1. 1. 1. ... 1. 1. 1.]\n",
      "  [1. 1. 1. ... 1. 1. 1.]\n",
      "  [1. 1. 1. ... 1. 1. 1.]]\n",
      "\n",
      " [[1. 1. 1. ... 1. 1. 1.]\n",
      "  [1. 1. 1. ... 1. 1. 1.]\n",
      "  [1. 1. 1. ... 1. 1. 1.]\n",
      "  ...\n",
      "  [1. 1. 1. ... 1. 1. 1.]\n",
      "  [1. 1. 1. ... 1. 1. 1.]\n",
      "  [1. 1. 1. ... 1. 1. 1.]]\n",
      "\n",
      " [[1. 1. 1. ... 1. 1. 1.]\n",
      "  [1. 1. 1. ... 1. 1. 1.]\n",
      "  [1. 1. 1. ... 1. 1. 1.]\n",
      "  ...\n",
      "  [1. 1. 1. ... 1. 1. 1.]\n",
      "  [1. 1. 1. ... 1. 1. 1.]\n",
      "  [1. 1. 1. ... 1. 1. 1.]]\n",
      "\n",
      " ...\n",
      "\n",
      " [[1. 1. 1. ... 1. 1. 1.]\n",
      "  [1. 1. 1. ... 1. 1. 1.]\n",
      "  [1. 1. 1. ... 1. 1. 1.]\n",
      "  ...\n",
      "  [1. 1. 1. ... 1. 1. 1.]\n",
      "  [1. 1. 1. ... 1. 1. 1.]\n",
      "  [1. 1. 1. ... 1. 1. 1.]]\n",
      "\n",
      " [[1. 1. 1. ... 1. 1. 1.]\n",
      "  [1. 1. 1. ... 1. 1. 1.]\n",
      "  [1. 1. 1. ... 1. 1. 1.]\n",
      "  ...\n",
      "  [1. 1. 1. ... 1. 1. 1.]\n",
      "  [1. 1. 1. ... 1. 1. 1.]\n",
      "  [1. 1. 1. ... 1. 1. 1.]]\n",
      "\n",
      " [[1. 1. 1. ... 1. 1. 1.]\n",
      "  [1. 1. 1. ... 1. 1. 1.]\n",
      "  [1. 1. 1. ... 1. 1. 1.]\n",
      "  ...\n",
      "  [1. 1. 1. ... 1. 1. 1.]\n",
      "  [1. 1. 1. ... 1. 1. 1.]\n",
      "  [1. 1. 1. ... 1. 1. 1.]]]\n",
      "[[[1.]\n",
      "  [1.]\n",
      "  [1.]\n",
      "  [1.]\n",
      "  [1.]\n",
      "  [1.]\n",
      "  [1.]\n",
      "  [1.]\n",
      "  [1.]\n",
      "  [1.]\n",
      "  [1.]\n",
      "  [1.]\n",
      "  [1.]\n",
      "  [1.]\n",
      "  [1.]\n",
      "  [1.]\n",
      "  [1.]\n",
      "  [1.]\n",
      "  [1.]\n",
      "  [1.]]\n",
      "\n",
      " [[1.]\n",
      "  [1.]\n",
      "  [1.]\n",
      "  [1.]\n",
      "  [1.]\n",
      "  [1.]\n",
      "  [1.]\n",
      "  [1.]\n",
      "  [1.]\n",
      "  [1.]\n",
      "  [1.]\n",
      "  [1.]\n",
      "  [1.]\n",
      "  [1.]\n",
      "  [1.]\n",
      "  [1.]\n",
      "  [1.]\n",
      "  [1.]\n",
      "  [1.]\n",
      "  [1.]]\n",
      "\n",
      " [[1.]\n",
      "  [1.]\n",
      "  [1.]\n",
      "  [1.]\n",
      "  [1.]\n",
      "  [1.]\n",
      "  [1.]\n",
      "  [1.]\n",
      "  [1.]\n",
      "  [1.]\n",
      "  [1.]\n",
      "  [1.]\n",
      "  [1.]\n",
      "  [1.]\n",
      "  [1.]\n",
      "  [1.]\n",
      "  [1.]\n",
      "  [1.]\n",
      "  [1.]\n",
      "  [1.]]\n",
      "\n",
      " [[1.]\n",
      "  [1.]\n",
      "  [1.]\n",
      "  [1.]\n",
      "  [1.]\n",
      "  [1.]\n",
      "  [1.]\n",
      "  [1.]\n",
      "  [1.]\n",
      "  [1.]\n",
      "  [1.]\n",
      "  [1.]\n",
      "  [1.]\n",
      "  [1.]\n",
      "  [1.]\n",
      "  [1.]\n",
      "  [1.]\n",
      "  [1.]\n",
      "  [1.]\n",
      "  [1.]]\n",
      "\n",
      " [[1.]\n",
      "  [1.]\n",
      "  [1.]\n",
      "  [1.]\n",
      "  [1.]\n",
      "  [1.]\n",
      "  [1.]\n",
      "  [1.]\n",
      "  [1.]\n",
      "  [1.]\n",
      "  [1.]\n",
      "  [1.]\n",
      "  [1.]\n",
      "  [1.]\n",
      "  [1.]\n",
      "  [1.]\n",
      "  [1.]\n",
      "  [1.]\n",
      "  [1.]\n",
      "  [1.]]\n",
      "\n",
      " [[1.]\n",
      "  [1.]\n",
      "  [1.]\n",
      "  [1.]\n",
      "  [1.]\n",
      "  [1.]\n",
      "  [1.]\n",
      "  [1.]\n",
      "  [1.]\n",
      "  [1.]\n",
      "  [1.]\n",
      "  [1.]\n",
      "  [1.]\n",
      "  [1.]\n",
      "  [1.]\n",
      "  [1.]\n",
      "  [1.]\n",
      "  [1.]\n",
      "  [1.]\n",
      "  [1.]]\n",
      "\n",
      " [[1.]\n",
      "  [1.]\n",
      "  [1.]\n",
      "  [1.]\n",
      "  [1.]\n",
      "  [1.]\n",
      "  [1.]\n",
      "  [1.]\n",
      "  [1.]\n",
      "  [1.]\n",
      "  [1.]\n",
      "  [1.]\n",
      "  [1.]\n",
      "  [1.]\n",
      "  [1.]\n",
      "  [1.]\n",
      "  [1.]\n",
      "  [1.]\n",
      "  [1.]\n",
      "  [1.]]\n",
      "\n",
      " [[1.]\n",
      "  [1.]\n",
      "  [1.]\n",
      "  [1.]\n",
      "  [1.]\n",
      "  [1.]\n",
      "  [1.]\n",
      "  [1.]\n",
      "  [1.]\n",
      "  [1.]\n",
      "  [1.]\n",
      "  [1.]\n",
      "  [1.]\n",
      "  [1.]\n",
      "  [1.]\n",
      "  [1.]\n",
      "  [1.]\n",
      "  [1.]\n",
      "  [1.]\n",
      "  [1.]]\n",
      "\n",
      " [[1.]\n",
      "  [1.]\n",
      "  [1.]\n",
      "  [1.]\n",
      "  [1.]\n",
      "  [1.]\n",
      "  [1.]\n",
      "  [1.]\n",
      "  [1.]\n",
      "  [1.]\n",
      "  [1.]\n",
      "  [1.]\n",
      "  [1.]\n",
      "  [1.]\n",
      "  [1.]\n",
      "  [1.]\n",
      "  [1.]\n",
      "  [1.]\n",
      "  [1.]\n",
      "  [1.]]\n",
      "\n",
      " [[1.]\n",
      "  [1.]\n",
      "  [1.]\n",
      "  [1.]\n",
      "  [1.]\n",
      "  [1.]\n",
      "  [1.]\n",
      "  [1.]\n",
      "  [1.]\n",
      "  [1.]\n",
      "  [1.]\n",
      "  [1.]\n",
      "  [1.]\n",
      "  [1.]\n",
      "  [1.]\n",
      "  [1.]\n",
      "  [1.]\n",
      "  [1.]\n",
      "  [1.]\n",
      "  [1.]]]\n",
      "[[200.]\n",
      " [200.]\n",
      " [200.]\n",
      " [200.]\n",
      " [200.]\n",
      " [200.]\n",
      " [200.]\n",
      " [200.]\n",
      " [200.]\n",
      " [200.]\n",
      " [200.]\n",
      " [200.]\n",
      " [200.]\n",
      " [200.]\n",
      " [200.]\n",
      " [200.]\n",
      " [200.]\n",
      " [200.]\n",
      " [200.]\n",
      " [200.]]\n"
     ]
    }
   ],
   "source": [
    "p, n = 10, 20\n",
    "A = np.ones((p,n,n))\n",
    "print(A)\n",
    "V = np.ones((p,n,1))\n",
    "print(V)\n",
    "S = np.tensordot(A, V, axes=[[0, 2], [0, 1]])\n",
    "print(S)"
   ]
  },
  {
   "cell_type": "markdown",
   "id": "a840a88f",
   "metadata": {},
   "source": [
    "#### 87. Consider a 16x16 array, how to get the block-sum (block size is 4x4)? (★★★)"
   ]
  },
  {
   "cell_type": "code",
   "execution_count": 66,
   "id": "6e0c1cbe",
   "metadata": {},
   "outputs": [
    {
     "name": "stdout",
     "output_type": "stream",
     "text": [
      "[[16. 16. 16. 16.]\n",
      " [16. 16. 16. 16.]\n",
      " [16. 16. 16. 16.]\n",
      " [16. 16. 16. 16.]]\n"
     ]
    }
   ],
   "source": [
    "x = np.ones((16,16))\n",
    "k = 4\n",
    "Sum = np.add.reduceat(np.add.reduceat(x, np.arange(0, x.shape[0], k), axis=0),\n",
    "                                       np.arange(0, x.shape[1], k), axis=1)\n",
    "print(Sum)"
   ]
  },
  {
   "cell_type": "markdown",
   "id": "c2bd7385",
   "metadata": {},
   "source": [
    "#### 88. How to implement the Game of Life using numpy arrays? (★★★)"
   ]
  },
  {
   "cell_type": "code",
   "execution_count": 94,
   "id": "aea7d805",
   "metadata": {},
   "outputs": [
    {
     "name": "stdout",
     "output_type": "stream",
     "text": [
      "[[0 0 0 0 0 0 0 0 0 0 0 0 0 0 0 0 0 0 0 0 0 0 0 0 0 0 0 0 0 0 0 0 0 0 0 0\n",
      "  0 0 0 0 0 0 0 0 0 0 0 0 0 0]\n",
      " [0 0 0 0 1 1 0 0 0 0 0 0 0 0 0 0 0 0 0 0 0 1 0 0 0 0 0 0 0 0 0 0 0 0 0 0\n",
      "  0 0 0 0 0 0 0 0 0 0 0 0 0 0]\n",
      " [0 0 0 0 1 1 0 0 0 0 1 0 1 0 0 0 0 0 0 0 0 1 0 0 0 0 0 0 0 0 0 0 0 0 0 0\n",
      "  0 0 0 0 0 0 0 0 0 0 0 0 0 0]\n",
      " [0 0 0 0 0 0 0 0 0 0 1 0 1 0 0 0 0 0 0 0 0 1 0 0 0 0 0 0 0 0 0 0 0 0 0 0\n",
      "  0 0 0 0 0 0 0 0 0 0 0 0 0 0]\n",
      " [0 0 0 0 0 0 0 0 1 1 0 1 0 0 0 0 0 0 0 0 0 0 0 0 0 0 0 0 0 0 0 0 0 0 0 0\n",
      "  0 0 0 0 0 0 0 0 0 0 0 0 0 0]\n",
      " [0 0 0 0 0 0 0 0 1 0 0 0 0 0 0 0 0 0 0 0 0 0 0 0 0 0 0 0 0 0 0 0 0 0 0 0\n",
      "  0 0 0 0 0 0 0 0 0 1 1 1 0 0]\n",
      " [0 0 1 1 0 0 0 0 1 1 1 0 0 0 0 0 0 1 1 1 0 0 0 0 1 0 0 0 0 0 0 0 0 0 0 0\n",
      "  1 1 0 0 0 0 0 0 1 0 1 1 0 0]\n",
      " [0 1 0 1 0 0 0 0 0 0 0 1 0 1 0 0 0 0 0 0 0 0 0 0 1 1 0 0 0 0 0 0 0 0 0 0\n",
      "  1 1 1 0 0 0 0 1 1 1 0 0 0 0]\n",
      " [0 0 1 0 0 0 0 0 0 0 0 1 0 1 0 0 0 0 0 0 0 1 0 0 0 0 1 1 0 0 1 0 0 0 0 1\n",
      "  0 0 1 1 1 0 1 0 0 1 0 0 0 0]\n",
      " [0 0 0 0 0 0 0 0 0 0 0 1 1 1 0 0 0 0 0 0 0 1 0 1 1 0 0 1 0 0 1 1 0 0 0 0\n",
      "  1 1 0 1 0 1 1 1 1 0 0 0 0 0]\n",
      " [0 0 0 0 0 0 0 0 0 0 0 0 0 0 0 0 0 0 0 0 0 1 1 0 1 1 1 1 1 1 0 1 1 0 0 0\n",
      "  1 1 0 0 0 0 1 0 0 0 0 0 0 0]\n",
      " [0 0 0 0 0 0 0 0 0 0 0 0 0 0 0 0 0 0 0 0 0 0 0 0 0 0 0 0 0 1 0 1 0 0 0 0\n",
      "  0 0 0 1 0 1 0 0 0 0 0 0 0 0]\n",
      " [0 0 0 0 0 0 0 0 0 0 0 0 0 0 0 0 0 0 0 0 0 0 0 0 0 1 0 0 0 1 1 0 0 0 0 0\n",
      "  0 0 0 0 1 0 0 0 0 0 0 0 0 0]\n",
      " [0 0 0 0 0 0 0 0 0 0 0 0 0 0 0 0 0 0 0 0 0 0 0 0 0 1 1 0 0 0 0 0 0 0 0 0\n",
      "  0 0 0 0 0 0 0 0 0 0 0 0 0 0]\n",
      " [0 0 0 0 0 0 0 0 0 0 0 0 0 0 0 0 0 0 0 0 0 0 0 0 0 0 0 0 0 0 0 0 0 0 0 0\n",
      "  0 0 0 0 0 0 0 1 1 0 0 0 0 0]\n",
      " [0 0 0 0 0 0 0 0 0 0 0 0 0 0 0 0 0 0 0 0 0 0 0 0 0 0 1 1 0 0 0 0 0 0 0 0\n",
      "  0 0 0 0 0 0 1 0 0 1 0 0 0 0]\n",
      " [0 0 0 0 0 0 0 0 0 0 0 0 0 0 0 0 0 0 0 0 0 0 0 0 0 0 0 1 0 0 0 0 0 0 0 0\n",
      "  0 0 0 0 0 0 1 0 1 0 0 0 0 0]\n",
      " [0 0 0 0 0 0 0 0 0 0 0 0 0 0 0 0 0 0 0 0 0 0 0 0 0 0 0 0 0 0 0 0 0 0 0 0\n",
      "  0 0 0 0 0 0 0 1 0 0 0 0 0 0]\n",
      " [0 0 0 0 0 0 1 1 1 1 0 0 0 0 0 0 0 0 0 0 0 0 0 0 0 0 0 0 1 0 0 0 0 0 0 0\n",
      "  0 0 0 0 0 0 0 0 0 0 0 0 0 0]\n",
      " [0 0 0 0 0 1 1 0 0 1 0 0 0 0 0 0 1 1 0 0 0 0 0 0 0 0 0 1 0 1 0 0 0 0 0 0\n",
      "  0 0 0 0 0 0 0 0 0 0 0 0 0 0]\n",
      " [0 0 0 0 1 1 0 0 1 0 0 0 1 1 0 0 1 1 0 0 1 1 1 0 0 0 0 0 1 0 0 0 0 0 0 0\n",
      "  0 0 0 0 0 0 0 0 0 0 0 0 0 0]\n",
      " [0 0 0 0 0 1 0 0 1 0 0 0 0 1 1 0 0 0 0 0 1 1 0 1 1 0 0 0 0 0 0 0 0 0 0 0\n",
      "  0 0 0 0 0 0 0 0 0 0 0 0 0 0]\n",
      " [0 0 0 0 0 0 1 1 0 0 0 0 1 0 0 0 0 0 0 0 0 0 0 0 0 1 0 0 0 0 0 0 0 0 0 0\n",
      "  0 0 0 0 0 0 0 0 0 0 0 0 0 0]\n",
      " [0 0 0 0 0 0 0 0 0 0 0 0 0 0 0 0 0 0 0 0 0 1 0 0 0 0 0 0 0 0 0 0 0 0 0 0\n",
      "  0 0 0 0 0 0 0 0 0 0 0 0 0 0]\n",
      " [0 0 0 0 0 0 0 1 0 0 0 0 0 0 0 0 0 0 0 0 0 0 0 0 0 0 0 0 0 0 0 0 0 0 0 0\n",
      "  0 0 0 0 0 0 0 0 0 0 0 0 0 0]\n",
      " [0 0 0 0 0 0 1 1 1 0 0 0 0 0 0 0 0 0 0 0 0 0 0 0 0 0 0 0 0 0 0 0 0 0 0 0\n",
      "  0 0 0 0 0 0 0 0 0 0 0 0 0 0]\n",
      " [0 0 0 0 0 1 0 0 1 1 0 0 0 0 0 0 0 0 0 0 0 0 0 1 0 1 0 0 0 0 0 0 0 0 0 0\n",
      "  0 0 0 0 0 0 0 0 0 0 0 0 0 0]\n",
      " [0 0 0 0 0 0 0 0 0 0 0 0 0 0 0 0 0 0 0 0 0 0 0 0 0 1 0 0 0 0 0 0 0 0 0 0\n",
      "  0 0 0 0 0 0 0 0 0 0 0 1 1 0]\n",
      " [0 0 0 0 1 1 0 0 0 0 0 0 0 0 0 0 0 0 0 0 0 0 0 0 0 0 0 0 0 0 0 0 0 0 0 0\n",
      "  0 0 0 0 0 0 0 0 0 0 0 1 1 0]\n",
      " [0 0 0 0 1 1 0 0 0 0 0 0 0 0 0 0 0 0 0 1 1 0 1 1 0 0 0 0 0 1 1 0 1 0 0 0\n",
      "  0 0 0 0 0 0 0 0 0 0 0 0 0 0]\n",
      " [0 0 0 0 1 1 0 0 0 0 0 0 0 0 0 0 0 0 0 1 1 0 1 1 0 0 0 0 0 1 1 0 1 0 1 0\n",
      "  0 0 0 0 0 0 0 0 0 0 0 1 1 0]\n",
      " [0 0 0 0 0 0 0 0 0 0 0 0 0 0 0 0 0 0 0 0 0 0 0 0 0 0 0 0 0 1 1 1 0 0 0 1\n",
      "  0 0 0 0 0 0 0 0 0 0 0 1 1 0]\n",
      " [0 0 0 0 1 0 0 0 0 0 0 0 0 0 0 0 0 0 0 0 0 0 0 0 0 0 0 0 0 0 0 0 0 1 0 1\n",
      "  0 0 0 0 0 0 0 0 0 0 0 0 0 0]\n",
      " [0 0 1 0 0 0 1 0 0 0 0 0 0 0 0 0 0 0 0 0 0 0 0 0 0 0 0 0 0 0 0 0 0 0 0 1\n",
      "  1 0 0 0 0 0 0 0 0 0 0 0 0 0]\n",
      " [0 0 0 0 0 0 1 0 0 0 0 0 0 0 0 1 1 0 0 0 0 0 0 0 0 0 0 0 0 0 0 0 0 0 0 0\n",
      "  0 0 0 0 0 0 0 0 0 0 0 0 0 0]\n",
      " [0 0 1 0 0 0 1 0 0 0 0 0 0 0 0 1 1 0 0 0 0 0 0 0 0 0 0 0 0 0 0 0 0 0 0 0\n",
      "  0 0 0 0 0 0 0 0 0 0 0 0 0 0]\n",
      " [0 0 0 0 0 0 0 0 0 0 0 0 0 0 0 0 0 0 0 0 0 0 0 0 0 0 0 0 0 0 0 0 0 0 0 0\n",
      "  0 0 0 0 0 0 0 0 0 0 0 0 0 0]\n",
      " [0 0 0 0 0 0 0 0 0 0 0 0 0 0 0 0 0 0 0 0 0 0 0 0 0 0 0 0 0 0 0 0 0 0 0 0\n",
      "  0 0 0 0 0 0 0 0 0 0 0 0 0 0]\n",
      " [0 0 0 0 1 0 0 1 1 0 0 0 0 0 0 0 0 0 0 0 0 0 0 0 0 0 0 1 1 0 0 0 0 0 0 0\n",
      "  0 0 0 0 0 0 0 0 0 0 0 0 0 0]\n",
      " [0 0 0 0 1 0 0 0 1 0 0 0 0 0 0 0 0 0 0 0 0 0 0 0 0 0 0 1 1 0 0 0 0 0 0 0\n",
      "  0 0 0 0 0 0 0 0 0 0 0 0 0 0]\n",
      " [0 0 0 0 0 0 1 1 0 0 0 0 0 0 0 0 0 0 0 0 0 0 0 0 0 0 0 0 0 0 0 0 0 0 0 0\n",
      "  0 0 0 0 0 0 0 0 0 0 0 0 0 0]\n",
      " [0 0 0 0 0 0 0 0 0 0 0 0 0 0 0 0 0 0 0 0 0 0 0 0 0 0 0 0 0 0 0 0 1 1 1 0\n",
      "  0 0 0 0 0 0 0 0 0 0 0 0 0 0]\n",
      " [0 0 0 0 0 0 0 0 0 0 0 0 0 0 0 0 0 0 0 0 0 0 0 0 0 0 0 0 0 0 0 1 0 1 1 0\n",
      "  0 0 0 0 0 0 0 0 0 0 0 0 0 0]\n",
      " [0 0 0 0 0 0 0 0 0 0 0 0 0 0 0 0 0 0 0 0 0 0 0 0 0 0 0 0 0 0 1 0 0 0 0 0\n",
      "  0 0 0 0 0 0 0 0 0 0 0 0 0 0]\n",
      " [0 0 0 0 0 0 0 0 0 0 0 0 0 0 0 0 0 0 1 0 0 0 0 0 0 0 0 0 0 0 1 0 1 0 1 1\n",
      "  0 0 0 0 0 0 0 0 0 0 0 0 0 0]\n",
      " [0 0 0 0 0 0 0 0 0 0 0 0 0 0 0 0 0 1 0 1 0 0 0 0 0 0 0 0 0 0 1 1 0 0 1 1\n",
      "  1 0 0 0 0 0 0 0 0 0 0 0 0 0]\n",
      " [0 0 1 1 1 0 0 0 0 0 0 0 0 0 0 0 1 0 0 1 0 0 0 0 0 0 0 0 0 0 1 1 0 1 1 0\n",
      "  1 0 0 0 0 0 0 0 0 0 0 0 0 0]\n",
      " [0 0 0 0 0 0 0 0 0 0 0 0 0 0 0 0 0 1 1 0 0 0 0 0 0 0 0 0 0 0 0 0 1 0 0 0\n",
      "  1 0 0 0 0 0 0 0 0 1 1 0 0 0]\n",
      " [0 0 0 0 0 0 0 0 0 0 0 0 0 0 0 0 0 0 0 0 0 0 0 0 0 0 0 0 0 0 0 0 1 0 0 1\n",
      "  0 0 0 0 0 0 0 0 0 1 1 0 0 0]\n",
      " [0 0 0 0 0 0 0 0 0 0 0 0 0 0 0 0 0 0 0 0 0 0 0 0 0 0 0 0 0 0 0 0 0 0 0 0\n",
      "  0 0 0 0 0 0 0 0 0 0 0 0 0 0]] \n",
      "\n"
     ]
    }
   ],
   "source": [
    "import sys\n",
    "np.set_printoptions(threshold=sys.maxsize)\n",
    "def itera(Z):\n",
    "    N = (Z[0:-2,0:-2] + Z[0:-2,1:-1] + Z[0:-2,2:] +\n",
    "         Z[1:-1,0:-2]                + Z[1:-1,2:] +\n",
    "         Z[2:  ,0:-2] + Z[2:  ,1:-1] + Z[2:  ,2:])\n",
    "\n",
    "\n",
    "    birth = (N==3) & (Z[1:-1,1:-1]==0)\n",
    "    survive = ((N==2) | (N==3)) & (Z[1:-1,1:-1]==1)\n",
    "    Z[...] = 0\n",
    "    Z[1:-1,1:-1][birth | survive] = 1\n",
    "    return Z\n",
    "\n",
    "Z = np.random.randint(0,2,(50,50))\n",
    "for i in range(100): Z = itera(Z)\n",
    "print(Z,'\\n')"
   ]
  },
  {
   "cell_type": "markdown",
   "id": "4c70397b",
   "metadata": {},
   "source": [
    "#### 89. How to get the n largest values of an array (★★★)"
   ]
  },
  {
   "cell_type": "code",
   "execution_count": 65,
   "id": "16371718",
   "metadata": {},
   "outputs": [
    {
     "name": "stdout",
     "output_type": "stream",
     "text": [
      "[594 594 594 594 594 595 595 595 597 598]\n"
     ]
    }
   ],
   "source": [
    "x = np.random.randint(0,600,1000)\n",
    "n = 10\n",
    "print (x[np.argsort(x)[-n:]])"
   ]
  },
  {
   "cell_type": "markdown",
   "id": "15ba193c",
   "metadata": {},
   "source": [
    "#### 90. Given an arbitrary number of vectors, build the cartesian product (every combinations of every item) (★★★)"
   ]
  },
  {
   "cell_type": "code",
   "execution_count": 87,
   "id": "c9c468d4",
   "metadata": {},
   "outputs": [
    {
     "name": "stdout",
     "output_type": "stream",
     "text": [
      "[2 3 4 5]\n",
      "[[1 4 6]\n",
      " [1 4 7]\n",
      " [1 5 6]\n",
      " [1 5 7]\n",
      " [2 4 6]\n",
      " [2 4 7]\n",
      " [2 5 6]\n",
      " [2 5 7]\n",
      " [3 4 6]\n",
      " [3 4 7]\n",
      " [3 5 6]\n",
      " [3 5 7]]\n"
     ]
    }
   ],
   "source": [
    "def cart(arrays):\n",
    "    arrays = [np.array(a) for a in arrays]\n",
    "    shape = (len(x) for x in arrays)\n",
    "    #print(x)\n",
    "    ix = np.indices(shape, dtype=int)\n",
    "    ix = ix.reshape(len(arrays), -1).T\n",
    "\n",
    "    for n, arr in enumerate(arrays):\n",
    "        ix[:, n] = arrays[n][ix[:, n]]\n",
    "\n",
    "    return ix\n",
    "\n",
    "print (cart(([1, 2, 3], [4, 5], [6, 7])))"
   ]
  },
  {
   "cell_type": "markdown",
   "id": "ec828405",
   "metadata": {},
   "source": [
    "#### 91. How to create a record array from a regular array? (★★★)"
   ]
  },
  {
   "cell_type": "code",
   "execution_count": 2,
   "id": "84eb5fba",
   "metadata": {},
   "outputs": [
    {
     "name": "stdout",
     "output_type": "stream",
     "text": [
      "[(1, 'Red') (2, 'Green') (3, 'White') (4, 'Orange')]\n"
     ]
    }
   ],
   "source": [
    " num=np.array([1,2,3,4])\n",
    "col=np.array(['Red','Green','White','Orange'])\n",
    "result= np.core.records.fromarrays([num, col],names='a,b')\n",
    "print(result)"
   ]
  },
  {
   "cell_type": "markdown",
   "id": "d94352b6",
   "metadata": {},
   "source": [
    "#### 92. Consider a large vector Z, compute Z to the power of 3 using 3 different methods (★★★)"
   ]
  },
  {
   "cell_type": "code",
   "execution_count": 23,
   "id": "301ba8a8",
   "metadata": {},
   "outputs": [
    {
     "name": "stdout",
     "output_type": "stream",
     "text": [
      "[0.04102589 0.51086298 0.0355046  ... 0.22924922 0.66527815 0.45027607]\n",
      "[0.04102589 0.51086298 0.0355046  ... 0.22924922 0.66527815 0.45027607]\n",
      "[0.04102589 0.51086298 0.0355046  ... 0.22924922 0.66527815 0.45027607]\n"
     ]
    }
   ],
   "source": [
    "x = np.random.rand(5000)\n",
    "\n",
    "print(np.power(x,3))\n",
    "print(x*x*x)\n",
    "print(pow(x,3))"
   ]
  },
  {
   "cell_type": "markdown",
   "id": "7c3a9e32",
   "metadata": {},
   "source": [
    "#### 93. Consider two arrays A and B of shape (8,3) and (2,2). How to find rows of A that contain elements of each row of B regardless of the order of the elements in B? (★★★)"
   ]
  },
  {
   "cell_type": "code",
   "execution_count": 19,
   "id": "777376e3",
   "metadata": {},
   "outputs": [
    {
     "name": "stdout",
     "output_type": "stream",
     "text": [
      "(array([1, 5, 7], dtype=int64),)\n"
     ]
    }
   ],
   "source": [
    "A = np.random.randint(0,8,(8,3))\n",
    "B = np.random.randint(0,8,(2,2))\n",
    "\n",
    "C = (A[..., np.newaxis, np.newaxis] == B)\n",
    "res = np.where(C.any((3,1)).all(1))\n",
    "print(res)"
   ]
  },
  {
   "cell_type": "markdown",
   "id": "da9d5eeb",
   "metadata": {},
   "source": [
    "#### 94. Considering a 10x3 matrix, extract rows with unequal values (e.g. [2,2,3]) (★★★)"
   ]
  },
  {
   "cell_type": "code",
   "execution_count": 22,
   "id": "67dbea5c",
   "metadata": {},
   "outputs": [
    {
     "name": "stdout",
     "output_type": "stream",
     "text": [
      "res [[2 3 1]\n",
      " [4 2 1]\n",
      " [1 4 3]\n",
      " [2 4 4]\n",
      " [4 0 1]\n",
      " [3 3 4]\n",
      " [3 3 1]\n",
      " [1 0 1]\n",
      " [4 3 4]\n",
      " [2 0 0]]\n"
     ]
    }
   ],
   "source": [
    "Z = np.random.randint(0,5,(10,3))\n",
    "\n",
    "res = Z[Z.max(axis=1) != Z.min(axis=1),:]\n",
    "print(res)"
   ]
  },
  {
   "cell_type": "markdown",
   "id": "f7b65fd5",
   "metadata": {},
   "source": [
    "#### 95. Convert a vector of ints into a matrix binary representation (★★★)"
   ]
  },
  {
   "cell_type": "code",
   "execution_count": 43,
   "id": "127294ed",
   "metadata": {},
   "outputs": [
    {
     "name": "stdout",
     "output_type": "stream",
     "text": [
      "[[ 3  6 13  9  3  4 12 10 10  8]]\n",
      "[[0 0 0 0 0 0 1 1]\n",
      " [0 0 0 0 0 1 1 0]\n",
      " [0 0 0 0 1 1 0 1]\n",
      " [0 0 0 0 1 0 0 1]\n",
      " [0 0 0 0 0 0 1 1]\n",
      " [0 0 0 0 0 1 0 0]\n",
      " [0 0 0 0 1 1 0 0]\n",
      " [0 0 0 0 1 0 1 0]\n",
      " [0 0 0 0 1 0 1 0]\n",
      " [0 0 0 0 1 0 0 0]]\n"
     ]
    }
   ],
   "source": [
    "I = np.random.randint(0,16,(1,10))\n",
    "print(I)\n",
    "K = I.reshape(-1,1)\n",
    "J = 2**np.arange(8)\n",
    "L = (K & J != 0).astype(int)\n",
    "print(L[:,::-1])"
   ]
  },
  {
   "cell_type": "markdown",
   "id": "2784c996",
   "metadata": {},
   "source": [
    "#### 96. Given a two dimensional array, how to extract unique rows? (★★★)"
   ]
  },
  {
   "cell_type": "code",
   "execution_count": 40,
   "id": "f030595f",
   "metadata": {},
   "outputs": [
    {
     "name": "stdout",
     "output_type": "stream",
     "text": [
      "[[0 0 0]\n",
      " [0 1 0]\n",
      " [1 0 0]\n",
      " [1 0 1]]\n"
     ]
    }
   ],
   "source": [
    "Z = np.random.randint(0,2,(6,3))\n",
    "uniq = np.unique(Z, axis=0)\n",
    "print(uniq)"
   ]
  },
  {
   "cell_type": "markdown",
   "id": "71a7574c",
   "metadata": {},
   "source": [
    "#### 97. Considering 2 vectors A & B, write the einsum equivalent of inner, outer, sum, and mul function (★★★)"
   ]
  },
  {
   "cell_type": "code",
   "execution_count": 45,
   "id": "721c4e1a",
   "metadata": {},
   "outputs": [
    {
     "name": "stdout",
     "output_type": "stream",
     "text": [
      "sum 45\n",
      "multiply [ 9 16 21 24 25 24 21 16  9]\n",
      "inner prod 165\n",
      "outer prod [[ 9  8  7  6  5  4  3  2  1]\n",
      " [18 16 14 12 10  8  6  4  2]\n",
      " [27 24 21 18 15 12  9  6  3]\n",
      " [36 32 28 24 20 16 12  8  4]\n",
      " [45 40 35 30 25 20 15 10  5]\n",
      " [54 48 42 36 30 24 18 12  6]\n",
      " [63 56 49 42 35 28 21 14  7]\n",
      " [72 64 56 48 40 32 24 16  8]\n",
      " [81 72 63 54 45 36 27 18  9]]\n"
     ]
    }
   ],
   "source": [
    "A = [1,2,3,4,5,6,7,8,9]\n",
    "B = [9,8,7,6,5,4,3,2,1]\n",
    "print(\"sum\",np.einsum('i->', A))\n",
    "print(\"multiply\",np.einsum('i,i->i', A, B))\n",
    "print(\"inner prod\",np.einsum('i,i', A, B))\n",
    "print(\"outer prod\",np.einsum('i,j->ij', A, B))"
   ]
  },
  {
   "cell_type": "markdown",
   "id": "30f06441",
   "metadata": {},
   "source": [
    "#### 98. Considering a path described by two vectors (X,Y), how to sample it using equidistant samples (★★★)?"
   ]
  },
  {
   "cell_type": "code",
   "execution_count": 47,
   "id": "fb41c022",
   "metadata": {},
   "outputs": [
    {
     "name": "stdout",
     "output_type": "stream",
     "text": [
      "[  0.           1.59335313   3.18670626   4.78005939   6.37341252\n",
      "   7.96676565   9.56011879  11.15347192  12.74682505  14.34017818\n",
      "  15.93353131  17.52688444  19.12023757  20.7135907   22.30694383\n",
      "  23.90029696  25.4936501   27.08700323  28.68035636  30.27370949\n",
      "  31.86706262  33.46041575  35.05376888  36.64712201  38.24047514\n",
      "  39.83382827  41.4271814   43.02053454  44.61388767  46.2072408\n",
      "  47.80059393  49.39394706  50.98730019  52.58065332  54.17400645\n",
      "  55.76735958  57.36071271  58.95406585  60.54741898  62.14077211\n",
      "  63.73412524  65.32747837  66.9208315   68.51418463  70.10753776\n",
      "  71.70089089  73.29424402  74.88759715  76.48095029  78.07430342\n",
      "  79.66765655  81.26100968  82.85436281  84.44771594  86.04106907\n",
      "  87.6344222   89.22777533  90.82112846  92.4144816   94.00783473\n",
      "  95.60118786  97.19454099  98.78789412 100.38124725 101.97460038\n",
      " 103.56795351 105.16130664 106.75465977 108.34801291 109.94136604\n",
      " 111.53471917 113.1280723  114.72142543 116.31477856 117.90813169\n",
      " 119.50148482 121.09483795 122.68819108 124.28154421 125.87489735\n",
      " 127.46825048 129.06160361 130.65495674 132.24830987 133.841663\n",
      " 135.43501613 137.02836926 138.62172239 140.21507552 141.80842866\n",
      " 143.40178179 144.99513492 146.58848805 148.18184118 149.77519431\n",
      " 151.36854744 152.96190057 154.5552537  156.14860683 157.74195996\n",
      " 159.3353131  160.92866623 162.52201936 164.11537249 165.70872562\n",
      " 167.30207875 168.89543188 170.48878501 172.08213814 173.67549127\n",
      " 175.26884441 176.86219754 178.45555067 180.0489038  181.64225693\n",
      " 183.23561006 184.82896319 186.42231632 188.01566945 189.60902258\n",
      " 191.20237571 192.79572885 194.38908198 195.98243511 197.57578824\n",
      " 199.16914137 200.7624945  202.35584763 203.94920076 205.54255389\n",
      " 207.13590702 208.72926016 210.32261329 211.91596642 213.50931955\n",
      " 215.10267268 216.69602581 218.28937894 219.88273207 221.4760852\n",
      " 223.06943833 224.66279146 226.2561446  227.84949773 229.44285086\n",
      " 231.03620399 232.62955712 234.22291025 235.81626338 237.40961651\n",
      " 239.00296964 240.59632277 242.18967591 243.78302904 245.37638217\n",
      " 246.9697353  248.56308843 250.15644156 251.74979469 253.34314782\n",
      " 254.93650095 256.52985408 258.12320722 259.71656035 261.30991348\n",
      " 262.90326661 264.49661974 266.08997287 267.683326   269.27667913\n",
      " 270.87003226 272.46338539 274.05673852 275.65009166 277.24344479\n",
      " 278.83679792 280.43015105 282.02350418 283.61685731 285.21021044\n",
      " 286.80356357 288.3969167  289.99026983 291.58362297 293.1769761\n",
      " 294.77032923 296.36368236 297.95703549 299.55038862 301.14374175\n",
      " 302.73709488 304.33044801 305.92380114 307.51715427 309.11050741\n",
      " 310.70386054 312.29721367 313.8905668  315.48391993 317.07727306]\n",
      "[ 0.00000000e+00 -3.73131229e-01 -2.59817608e+00 -3.26212050e+00\n",
      " -2.18442687e+00 -2.98929946e-02  2.42923642e+00  4.54913599e+00\n",
      "  5.92318348e+00  6.35117933e+00  5.82369277e+00  4.46259540e+00\n",
      "  2.47320794e+00  1.09577220e-01 -2.36575300e+00 -4.71261671e+00\n",
      " -6.72701769e+00 -8.25541575e+00 -9.18486120e+00 -9.46381505e+00\n",
      " -9.11085788e+00 -8.12875279e+00 -6.63306046e+00 -4.69271059e+00\n",
      " -2.44736165e+00 -2.05444585e-02  2.46101146e+00  4.86841760e+00\n",
      "  7.08937968e+00  9.02539126e+00  1.05948609e+01  1.17357250e+01\n",
      "  1.24068974e+01  1.25885805e+01  1.22815267e+01  1.15053927e+01\n",
      "  1.02963689e+01  8.70429550e+00  6.78948686e+00  4.61716636e+00\n",
      "  2.25853448e+00 -1.98731680e-01 -2.68040566e+00 -5.11543300e+00\n",
      " -7.41973991e+00 -9.53891040e+00 -1.14237629e+01 -1.29919305e+01\n",
      " -1.42355069e+01 -1.51243232e+01 -1.56061571e+01 -1.57219415e+01\n",
      " -1.54217066e+01 -1.47579136e+01 -1.37255236e+01 -1.23634834e+01\n",
      " -1.07024632e+01 -8.78327367e+00 -6.65029558e+00 -4.35514246e+00\n",
      " -1.94290275e+00  5.28038914e-01  3.00985904e+00  5.45450275e+00\n",
      "  7.80093594e+00  1.00179639e+01  1.20595602e+01  1.38732623e+01\n",
      "  1.54564938e+01  1.67497894e+01  1.77435802e+01  1.84439878e+01\n",
      "  1.87990820e+01  1.88271003e+01  1.85472755e+01  1.79378850e+01\n",
      "  1.70105456e+01  1.58085777e+01  1.43501808e+01  1.26222364e+01\n",
      "  1.06905445e+01  8.58498641e+00  6.33562529e+00  3.96179025e+00\n",
      "  1.51802643e+00 -9.61699044e-01 -3.44349301e+00 -5.88951759e+00\n",
      " -8.26006582e+00 -1.05270865e+01 -1.26610269e+01 -1.46343020e+01\n",
      " -1.64206033e+01 -1.79708499e+01 -1.92894561e+01 -2.03605967e+01\n",
      " -2.11716587e+01 -2.17133504e+01 -2.19797677e+01 -2.19626531e+01\n",
      " -2.16476737e+01 -2.10622561e+01 -2.02145809e+01 -1.91158467e+01\n",
      " -1.77800930e+01 -1.62239930e+01 -1.44666197e+01 -1.25291882e+01\n",
      " -1.04347777e+01 -8.20773276e+00 -5.86978851e+00 -3.45563299e+00\n",
      " -9.92556869e-01  1.49191203e+00  3.97031733e+00  6.41557503e+00\n",
      "  8.80126359e+00  1.11019001e+01  1.32931995e+01  1.53523150e+01\n",
      "  1.72580567e+01  1.89910866e+01  2.05340895e+01  2.18719167e+01\n",
      "  2.29917039e+01  2.38829603e+01  2.45376309e+01  2.49501314e+01\n",
      "  2.50865478e+01  2.50865478e+01  2.50865478e+01  2.50865478e+01\n",
      "  2.50865478e+01  2.50865478e+01  2.50865478e+01  2.50865478e+01\n",
      "  2.50865478e+01  2.50865478e+01  2.50865478e+01  2.50865478e+01\n",
      "  2.50865478e+01  2.50865478e+01  2.50865478e+01  2.50865478e+01\n",
      "  2.50865478e+01  2.50865478e+01  2.50865478e+01  2.50865478e+01\n",
      "  2.50865478e+01  2.50865478e+01  2.50865478e+01  2.50865478e+01\n",
      "  2.50865478e+01  2.50865478e+01  2.50865478e+01  2.50865478e+01\n",
      "  2.50865478e+01  2.50865478e+01  2.50865478e+01  2.50865478e+01\n",
      "  2.50865478e+01  2.50865478e+01  2.50865478e+01  2.50865478e+01\n",
      "  2.50865478e+01  2.50865478e+01  2.50865478e+01  2.50865478e+01\n",
      "  2.50865478e+01  2.50865478e+01  2.50865478e+01  2.50865478e+01\n",
      "  2.50865478e+01  2.50865478e+01  2.50865478e+01  2.50865478e+01\n",
      "  2.50865478e+01  2.50865478e+01  2.50865478e+01  2.50865478e+01\n",
      "  2.50865478e+01  2.50865478e+01  2.50865478e+01  2.50865478e+01\n",
      "  2.50865478e+01  2.50865478e+01  2.50865478e+01  2.50865478e+01\n",
      "  2.50865478e+01  2.50865478e+01  2.50865478e+01  2.50865478e+01\n",
      "  2.50865478e+01  2.50865478e+01  2.50865478e+01  2.50865478e+01\n",
      "  2.50865478e+01  2.50865478e+01  2.50865478e+01  2.50865478e+01]\n",
      "[  0.           1.74026724   0.98181658  -1.34251287  -3.53191891\n",
      "  -4.70449474  -4.59573427  -3.3383187   -1.28956083   1.14234685\n",
      "   3.55645601   5.62188218   7.09389488   7.82951803   7.78700678\n",
      "   6.99685666   5.5553524    3.60417006   1.30506373  -1.15819722\n",
      "  -3.61328132  -5.89130465  -7.87065053  -9.41689057 -10.47148358\n",
      " -10.99037867 -10.93543062 -10.33309122  -9.22690166  -7.6748983\n",
      "  -5.7525798   -3.54832201  -1.15854355   1.31709956   3.78023622\n",
      "   6.13780326   8.30540149  10.20987241  11.79104185  12.99729502\n",
      "  13.77742494  14.13197922  14.05857579  13.56368163  12.63452444\n",
      "  11.34090828   9.7221636    7.79464305   5.64544223   3.32503222\n",
      "   0.88810704  -1.59329248  -4.05992507  -6.45313746  -8.71327144\n",
      " -10.79008537 -12.63806526 -14.21470062 -15.48922994 -16.43908581\n",
      " -17.03514332 -17.29389477 -17.16856314 -16.72199791 -15.9044166\n",
      " -14.78241535 -13.36652796 -11.66781344  -9.75246391  -7.63091465\n",
      "  -5.35345831  -2.9690584   -0.50963191   1.9750706    4.44430515\n",
      "   6.85344809   9.15903461  11.33378435  13.34671246  15.13361199\n",
      "  16.69667865  18.01629221  19.07467076  19.81279688  20.26344986\n",
      "  20.42217607  20.28776307  19.84497025  19.09744654  18.07995312\n",
      "  16.8069397   15.29597711  13.56658008  11.62273122   9.51601869\n",
      "   7.27388893   4.9251924    2.49981337   0.02829328  -2.45817963\n",
      "  -4.92460367  -7.34030894  -9.67635928 -11.90506009 -14.00026452\n",
      " -15.93765565 -17.69500191 -19.25238327 -20.59238613 -21.69955426\n",
      " -22.54788603 -23.14325519 -23.48007252 -23.55566873 -23.37027413\n",
      " -22.92696621 -22.23158653 -21.2926288  -20.12109999 -18.73035698\n",
      " -17.1359212  -15.35527401 -13.40763564 -11.3137308   -9.09554383\n",
      "  -6.77606668  -4.37904252  -1.92870828  -0.82165802  -0.82165802\n",
      "  -0.82165802  -0.82165802  -0.82165802  -0.82165802  -0.82165802\n",
      "  -0.82165802  -0.82165802  -0.82165802  -0.82165802  -0.82165802\n",
      "  -0.82165802  -0.82165802  -0.82165802  -0.82165802  -0.82165802\n",
      "  -0.82165802  -0.82165802  -0.82165802  -0.82165802  -0.82165802\n",
      "  -0.82165802  -0.82165802  -0.82165802  -0.82165802  -0.82165802\n",
      "  -0.82165802  -0.82165802  -0.82165802  -0.82165802  -0.82165802\n",
      "  -0.82165802  -0.82165802  -0.82165802  -0.82165802  -0.82165802\n",
      "  -0.82165802  -0.82165802  -0.82165802  -0.82165802  -0.82165802\n",
      "  -0.82165802  -0.82165802  -0.82165802  -0.82165802  -0.82165802\n",
      "  -0.82165802  -0.82165802  -0.82165802  -0.82165802  -0.82165802\n",
      "  -0.82165802  -0.82165802  -0.82165802  -0.82165802  -0.82165802\n",
      "  -0.82165802  -0.82165802  -0.82165802  -0.82165802  -0.82165802\n",
      "  -0.82165802  -0.82165802  -0.82165802  -0.82165802  -0.82165802\n",
      "  -0.82165802  -0.82165802  -0.82165802  -0.82165802  -0.82165802]\n"
     ]
    }
   ],
   "source": [
    "\n",
    "theta = np.arange(0,8*np.pi,0.1)\n",
    "r = 1\n",
    "x = theta*np.cos(theta)\n",
    "y = theta*np.sin(theta)\n",
    "dr = (np.diff(x)**2 + np.diff(y)**2)**.5\n",
    "r = np.zeros_like(x)\n",
    "r[1:] = np.cumsum(dr)\n",
    "r_len = np.linspace(0, r.max(), 200)\n",
    "x_len = np.interp(r_int, r, x)\n",
    "y_len = np.interp(r_int, r, y)\n",
    "print(r_len)\n",
    "print(x_len)\n",
    "print(y_len)"
   ]
  },
  {
   "cell_type": "markdown",
   "id": "e5737276",
   "metadata": {},
   "source": [
    "#### 99. Given an integer n and a 2D array X, select from X the rows which can be interpreted as draws from a multinomial distribution with n degrees, i.e., the rows which only contain integers and which sum to n. (★★★)"
   ]
  },
  {
   "cell_type": "code",
   "execution_count": 54,
   "id": "68c333b0",
   "metadata": {},
   "outputs": [
    {
     "name": "stdout",
     "output_type": "stream",
     "text": [
      "[[2. 0. 1. 1.]]\n"
     ]
    }
   ],
   "source": [
    "X = np.array([[3.0, 2.0, 1.0, 0.0],\n",
    "                [2.0, 0.0, 1.0, 1.0],\n",
    "                [1.5, 2.5, 1.0, 0.0]])\n",
    "n = 4\n",
    "res = np.logical_and.reduce(np.mod(X, 1) == 0, axis=-1)\n",
    "res &= (X.sum(axis=-1) == n)\n",
    "print(X[res])"
   ]
  },
  {
   "cell_type": "markdown",
   "id": "5882e36d",
   "metadata": {},
   "source": [
    "#### 100. Compute bootstrapped 95% confidence intervals for the mean of a 1D array X (i.e., resample the elements of an array with replacement N times, compute the mean of each sample, and then compute percentiles over the means). (★★★)"
   ]
  },
  {
   "cell_type": "code",
   "execution_count": 61,
   "id": "d1b566e5",
   "metadata": {},
   "outputs": [
    {
     "name": "stdout",
     "output_type": "stream",
     "text": [
      "[-0.33247218  0.26821249]\n"
     ]
    }
   ],
   "source": [
    "X = np.random.randn(50)\n",
    "N = 500\n",
    "net = np.random.randint(0, X.size, (N, X.size))\n",
    "means = X[net].mean(axis=1)\n",
    "conf = np.percentile(means, [5, 95])\n",
    "print(conf)"
   ]
  },
  {
   "cell_type": "code",
   "execution_count": null,
   "id": "3a74fa60",
   "metadata": {},
   "outputs": [],
   "source": []
  }
 ],
 "metadata": {
  "kernelspec": {
   "display_name": "Python 3",
   "language": "python",
   "name": "python3"
  },
  "language_info": {
   "codemirror_mode": {
    "name": "ipython",
    "version": 3
   },
   "file_extension": ".py",
   "mimetype": "text/x-python",
   "name": "python",
   "nbconvert_exporter": "python",
   "pygments_lexer": "ipython3",
   "version": "3.8.8"
  }
 },
 "nbformat": 4,
 "nbformat_minor": 5
}
